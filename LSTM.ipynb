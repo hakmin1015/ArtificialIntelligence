{
  "nbformat": 4,
  "nbformat_minor": 0,
  "metadata": {
    "colab": {
      "provenance": [],
      "authorship_tag": "ABX9TyOOgH/rfOEwkGb1lEKSBFSD"
    },
    "kernelspec": {
      "name": "python3",
      "display_name": "Python 3"
    },
    "language_info": {
      "name": "python"
    }
  },
  "cells": [
    {
      "cell_type": "code",
      "source": [
        "from google.colab import drive\n",
        "drive.mount('/content/drive/')\n",
        "%cd /content/drive/MyDrive/LoadForecasting/"
      ],
      "metadata": {
        "colab": {
          "base_uri": "https://localhost:8080/"
        },
        "id": "wTlKxsGaFp2Q",
        "outputId": "dd572ac8-57a2-4730-fae5-a4b87f0fdd7b"
      },
      "execution_count": 1,
      "outputs": [
        {
          "output_type": "stream",
          "name": "stdout",
          "text": [
            "Mounted at /content/drive/\n",
            "/content/drive/MyDrive/LoadForecasting\n"
          ]
        }
      ]
    },
    {
      "cell_type": "markdown",
      "source": [
        "## 2023년 전체 테스트\n",
        "\n",
        "2일 전까지 학습하여 예측하는 모델 <br/>\n",
        "하루의 체감온도 및 합계일사량으로 max값을 예측함. <br/>\n",
        "max 대신 min을 사용하면 최소값을 예측할 수 있음. <br/>\n",
        "모델 학습 시간에 굉장히 오랜 시간이 소요됨."
      ],
      "metadata": {
        "id": "WOj3t8rCGiGz"
      }
    },
    {
      "cell_type": "code",
      "execution_count": null,
      "metadata": {
        "colab": {
          "base_uri": "https://localhost:8080/"
        },
        "id": "140N4qCwFn7u",
        "outputId": "4566da3e-0779-4439-991b-22743d0caaeb"
      },
      "outputs": [
        {
          "output_type": "stream",
          "name": "stdout",
          "text": [
            "예측하는 날짜: 2023-01-01\n",
            "1/1 [==============================] - 5s 5s/step\n",
            "예측한 최고 전력 :  1007.1878863573073\n",
            "실제 최고 전력 :  859\n",
            "오차율(%) :  17.25120912192169\n",
            "\n",
            "\n",
            "예측하는 날짜: 2023-01-02\n",
            "1/1 [==============================] - 1s 751ms/step\n",
            "예측한 최고 전력 :  956.6926088929175\n",
            "실제 최고 전력 :  989\n",
            "오차율(%) :  -3.266672508299543\n",
            "\n",
            "\n",
            "예측하는 날짜: 2023-01-03\n",
            "1/1 [==============================] - 1s 797ms/step\n",
            "예측한 최고 전력 :  982.4994649887084\n",
            "실제 최고 전력 :  976\n",
            "오차율(%) :  0.6659287898266786\n",
            "\n",
            "\n",
            "예측하는 날짜: 2023-01-04\n",
            "1/1 [==============================] - 1s 777ms/step\n",
            "예측한 최고 전력 :  1007.5215522050856\n",
            "실제 최고 전력 :  963\n",
            "오차율(%) :  4.6232141438302845\n",
            "\n",
            "\n",
            "예측하는 날짜: 2023-01-05\n"
          ]
        },
        {
          "output_type": "stream",
          "name": "stderr",
          "text": [
            "WARNING:tensorflow:5 out of the last 5 calls to <function Model.make_predict_function.<locals>.predict_function at 0x7bfb695ff5b0> triggered tf.function retracing. Tracing is expensive and the excessive number of tracings could be due to (1) creating @tf.function repeatedly in a loop, (2) passing tensors with different shapes, (3) passing Python objects instead of tensors. For (1), please define your @tf.function outside of the loop. For (2), @tf.function has reduce_retracing=True option that can avoid unnecessary retracing. For (3), please refer to https://www.tensorflow.org/guide/function#controlling_retracing and https://www.tensorflow.org/api_docs/python/tf/function for  more details.\n"
          ]
        },
        {
          "output_type": "stream",
          "name": "stdout",
          "text": [
            "1/1 [==============================] - 1s 825ms/step\n",
            "예측한 최고 전력 :  1003.1762645840644\n",
            "실제 최고 전력 :  943\n",
            "오차율(%) :  6.381364218882754\n",
            "\n",
            "\n",
            "예측하는 날짜: 2023-01-06\n"
          ]
        },
        {
          "output_type": "stream",
          "name": "stderr",
          "text": [
            "WARNING:tensorflow:6 out of the last 6 calls to <function Model.make_predict_function.<locals>.predict_function at 0x7bfb70746200> triggered tf.function retracing. Tracing is expensive and the excessive number of tracings could be due to (1) creating @tf.function repeatedly in a loop, (2) passing tensors with different shapes, (3) passing Python objects instead of tensors. For (1), please define your @tf.function outside of the loop. For (2), @tf.function has reduce_retracing=True option that can avoid unnecessary retracing. For (3), please refer to https://www.tensorflow.org/guide/function#controlling_retracing and https://www.tensorflow.org/api_docs/python/tf/function for  more details.\n"
          ]
        },
        {
          "output_type": "stream",
          "name": "stdout",
          "text": [
            "1/1 [==============================] - 1s 1s/step\n",
            "예측한 최고 전력 :  969.8106302618979\n",
            "실제 최고 전력 :  912\n",
            "오차율(%) :  6.33888489713793\n",
            "\n",
            "\n",
            "예측하는 날짜: 2023-01-07\n",
            "1/1 [==============================] - 1s 760ms/step\n",
            "예측한 최고 전력 :  952.9220953583716\n",
            "실제 최고 전력 :  935\n",
            "오차율(%) :  1.9168016426065904\n",
            "\n",
            "\n",
            "예측하는 날짜: 2023-01-08\n",
            "1/1 [==============================] - 1s 781ms/step\n",
            "예측한 최고 전력 :  989.5401330590247\n",
            "실제 최고 전력 :  891\n",
            "오차율(%) :  11.059498659823198\n",
            "\n",
            "\n"
          ]
        }
      ],
      "source": [
        "import pandas as pd\n",
        "import numpy as np\n",
        "import datetime\n",
        "import matplotlib.pyplot as plt\n",
        "from sklearn.preprocessing import MinMaxScaler\n",
        "from tensorflow.keras.models import Sequential\n",
        "from tensorflow.keras.layers import LSTM, Dense, Dropout\n",
        "from tensorflow.keras import Input, Model\n",
        "from tensorflow.keras.layers import Multiply\n",
        "\n",
        "# 엑셀 파일에서 데이터를 읽어옴\n",
        "df = pd.read_excel('jeju_asos_data_4.xlsx')\n",
        "\n",
        "# 시간에 따라 데이터를 정렬\n",
        "df.sort_values(by='date', inplace=True)\n",
        "\n",
        "start_date = datetime.datetime(2023, 1, 1)\n",
        "end_date = datetime.datetime(2023, 12, 31)\n",
        "\n",
        "# 각 날짜에 대해 반복 작업 수행\n",
        "for input_date in pd.date_range(start=start_date, end=end_date):\n",
        "\n",
        "    # train과 validation set을 2021년 1월 1일부터 입력된 날짜 기준 이틀 전까지로 설정\n",
        "    train_validation_set = df[(df['date'] >= '2021-01-01') & (df['date'] < input_date - datetime.timedelta(days=2))]\n",
        "\n",
        "    # test set은 input_date 하루만\n",
        "    test_set = df[df['date'] == input_date]\n",
        "\n",
        "    # 결과 확인\n",
        "    # print(\"Train-validation set 크기:\", len(train_validation_set))\n",
        "    # print(\"Test set 크기:\", len(test_set))\n",
        "\n",
        "    # 전체 데이터에서 'p-temp', 'solar'와 'max' 컬럼만 사용\n",
        "    data = train_validation_set[['p-temp', 'solar', 'max']].values\n",
        "\n",
        "    # Min-Max 스케일링\n",
        "    scaler = MinMaxScaler()\n",
        "    data_scaled = scaler.fit_transform(data)\n",
        "\n",
        "    # 시퀀스 데이터 생성 함수\n",
        "    def create_sequences(data, seq_length):\n",
        "        X, y = [], []\n",
        "        for i in range(len(data) - seq_length):\n",
        "            X.append(data[i:i+seq_length, :-1])\n",
        "            y.append(data[i+seq_length, -1])\n",
        "        return np.array(X), np.array(y)\n",
        "\n",
        "    # 하이퍼파라미터 설정\n",
        "    sequence_length = 30  # 시퀀스 길이\n",
        "\n",
        "    # 시퀀스 데이터 생성\n",
        "    X, y = create_sequences(data_scaled, sequence_length)\n",
        "\n",
        "    # 가중치 정의\n",
        "    weights = np.array([0.8, 0.2])  # 가중치 적용 : p-temp / solar\n",
        "\n",
        "    # 입력 데이터에 가중치 적용\n",
        "    X_weighted = X * weights\n",
        "\n",
        "    # LSTM 모델 정의\n",
        "    model = Sequential([\n",
        "        LSTM(50, return_sequences=True, input_shape=(X_weighted.shape[1], X_weighted.shape[2])),\n",
        "        Dropout(0.2),\n",
        "        LSTM(50),\n",
        "        Dropout(0.2),\n",
        "        Dense(1)\n",
        "    ])\n",
        "\n",
        "    # 모델 컴파일\n",
        "    model.compile(optimizer='adam', loss='mse')\n",
        "\n",
        "    # 모델 학습\n",
        "    history = model.fit(X_weighted, y, epochs=50, batch_size=32, verbose=0, validation_split=0.1)\n",
        "\n",
        "    # Loss 그래프 출력\n",
        "    # plt.plot(history.history['loss'], label='Training Loss')\n",
        "    # plt.plot(history.history['val_loss'], label='Validation Loss')\n",
        "    # plt.xlabel('Epoch')\n",
        "    # plt.ylabel('Loss')\n",
        "    # plt.title('Training and Validation Loss')\n",
        "    # plt.legend()\n",
        "    # plt.show()\n",
        "\n",
        "    # 예측 함수\n",
        "    def predict_power_for_date(date, model, scaler, sequence_length, weights):\n",
        "        # 입력 날짜에 해당하는 인덱스 찾기\n",
        "        idx = df[df['date'] == date].index[0] - 2\n",
        "\n",
        "        # 이전 sequence_length일의 p-temp와 solar 값 추출\n",
        "        X_input = data_scaled[idx-sequence_length:idx, :-1]\n",
        "\n",
        "        # 입력 데이터에 가중치 적용\n",
        "        X_input_weighted = X_input * weights\n",
        "\n",
        "        # 입력 데이터를 LSTM 모델에 맞게 변환\n",
        "        X_input_weighted = X_input_weighted.reshape((1, sequence_length, X_input_weighted.shape[1]))\n",
        "\n",
        "        # 예측\n",
        "        prediction = model.predict(X_input_weighted)\n",
        "\n",
        "        # 스케일링된 예측값을 디스케일링\n",
        "        last_sequence = np.concatenate((X_input_weighted[0, -1, :], prediction[0])).reshape(1, -1)\n",
        "        predicted_power = scaler.inverse_transform(last_sequence)[0, -1]\n",
        "\n",
        "        return predicted_power\n",
        "\n",
        "    print(\"예측하는 날짜:\", input_date.strftime('%Y-%m-%d'))  # 해당하는 날짜 출력\n",
        "\n",
        "    # 예측\n",
        "    predicted_power = predict_power_for_date(input_date, model, scaler, sequence_length, weights)\n",
        "    print(\"예측한 최고 전력 : \", predicted_power)\n",
        "\n",
        "    # 실제 최고 기온 출력\n",
        "    actual_power = test_set['max'].values[0]\n",
        "    print(\"실제 최고 전력 : \", actual_power)\n",
        "\n",
        "    # 오차율 출력\n",
        "    error_rate = (predicted_power - actual_power) / actual_power * 100\n",
        "    print(\"오차율(%) : \", error_rate)\n",
        "    print('\\n')"
      ]
    }
  ]
}