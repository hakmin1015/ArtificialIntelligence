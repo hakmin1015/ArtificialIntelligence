{
  "nbformat": 4,
  "nbformat_minor": 0,
  "metadata": {
    "colab": {
      "provenance": [],
      "mount_file_id": "1AkbW8nTKc5PTP1C7pflt818YSyTfy9rt",
      "authorship_tag": "ABX9TyP4OsQQh/llfjudGkXL1DNJ",
      "include_colab_link": true
    },
    "kernelspec": {
      "name": "python3",
      "display_name": "Python 3"
    },
    "language_info": {
      "name": "python"
    }
  },
  "cells": [
    {
      "cell_type": "markdown",
      "metadata": {
        "id": "view-in-github",
        "colab_type": "text"
      },
      "source": [
        "<a href=\"https://colab.research.google.com/github/hakmin1015/ArtificialIntelligence/blob/main/Homework_3.ipynb\" target=\"_parent\"><img src=\"https://colab.research.google.com/assets/colab-badge.svg\" alt=\"Open In Colab\"/></a>"
      ]
    },
    {
      "cell_type": "markdown",
      "source": [
        "<div align=\"center\">\n",
        "\n",
        "![header](https://capsule-render.vercel.app/api?type=soft&text=Optimization%20of%20Hinge%20loss%20and%20Cross%20Entropy%20loss&fontSize=28&fontAlignY=50&height=100&color=b2e39c)\n",
        "\n",
        "|숙제번호|과목명|이름|전공|학번|\n",
        "|:------:|:----:|:--:|:--:|:--:|\n",
        "|Homework #3|인공지능|이학민|융합전자공학전공|201910906|\n",
        "\n",
        "<img src=\"https://img.shields.io/badge/Python-3776AB?style=flat-square&logo=Python&logoColor=white\"/> <img src=\"https://img.shields.io/badge/TensorFlow-FF6F00?style=flat-square&logo=tensorflow&logoColor=white\"/> <img src=\"https://img.shields.io/badge/Google Colab-F9AB00?style=flat-square&logo=googlecolab&logoColor=white\"/> <img src=\"https://img.shields.io/badge/Jupyter Notebook-F37626?style=flat-square&logo=jupyter&logoColor=white\">\n",
        "***\n",
        "\n"
      ],
      "metadata": {
        "id": "kWBVF77uCWZn"
      }
    },
    {
      "cell_type": "markdown",
      "source": [
        "# 과제 설명\n",
        "\n",
        "* Hinge(SVM) loss, Softmax(Cross Entropy) loss를 계산할 수 있는 Loss Function 클래스를 설계한다.\n",
        "* 1000회에 걸쳐 Random Search 방식으로 최적의 W를 구한다.\n",
        "* Hinge loss와 Softmax loss에 대해 각각 3회씩 accuracy를 측정하고 평균값을 비교한다."
      ],
      "metadata": {
        "id": "YZ96GKX5Mtvp"
      }
    },
    {
      "cell_type": "code",
      "source": [
        "from google.colab import drive\n",
        "drive.mount('/content/drive')\n",
        "%cd /content/drive/MyDrive/AI/lab4\n",
        "%pwd"
      ],
      "metadata": {
        "colab": {
          "base_uri": "https://localhost:8080/",
          "height": 72
        },
        "id": "uWNGvlig9y42",
        "outputId": "d5fa5925-9521-4d72-dfd4-fe79e8210b91"
      },
      "execution_count": null,
      "outputs": [
        {
          "output_type": "stream",
          "name": "stdout",
          "text": [
            "Mounted at /content/drive\n",
            "/content/drive/MyDrive/AI/lab4\n"
          ]
        },
        {
          "output_type": "execute_result",
          "data": {
            "text/plain": [
              "'/content/drive/MyDrive/AI/lab4'"
            ],
            "application/vnd.google.colaboratory.intrinsic+json": {
              "type": "string"
            }
          },
          "metadata": {},
          "execution_count": 1
        }
      ]
    },
    {
      "cell_type": "code",
      "source": [
        "from google.colab import files\n",
        "files.upload()"
      ],
      "metadata": {
        "colab": {
          "base_uri": "https://localhost:8080/",
          "height": 185
        },
        "id": "FKK1WlUY-Jem",
        "outputId": "c2810ebb-9064-492b-f994-0cb43fdb838a"
      },
      "execution_count": null,
      "outputs": [
        {
          "output_type": "display_data",
          "data": {
            "text/plain": [
              "<IPython.core.display.HTML object>"
            ],
            "text/html": [
              "\n",
              "     <input type=\"file\" id=\"files-a96fc1dd-9deb-43cd-8fd3-f91b0db86fd1\" name=\"files[]\" multiple disabled\n",
              "        style=\"border:none\" />\n",
              "     <output id=\"result-a96fc1dd-9deb-43cd-8fd3-f91b0db86fd1\">\n",
              "      Upload widget is only available when the cell has been executed in the\n",
              "      current browser session. Please rerun this cell to enable.\n",
              "      </output>\n",
              "      <script>// Copyright 2017 Google LLC\n",
              "//\n",
              "// Licensed under the Apache License, Version 2.0 (the \"License\");\n",
              "// you may not use this file except in compliance with the License.\n",
              "// You may obtain a copy of the License at\n",
              "//\n",
              "//      http://www.apache.org/licenses/LICENSE-2.0\n",
              "//\n",
              "// Unless required by applicable law or agreed to in writing, software\n",
              "// distributed under the License is distributed on an \"AS IS\" BASIS,\n",
              "// WITHOUT WARRANTIES OR CONDITIONS OF ANY KIND, either express or implied.\n",
              "// See the License for the specific language governing permissions and\n",
              "// limitations under the License.\n",
              "\n",
              "/**\n",
              " * @fileoverview Helpers for google.colab Python module.\n",
              " */\n",
              "(function(scope) {\n",
              "function span(text, styleAttributes = {}) {\n",
              "  const element = document.createElement('span');\n",
              "  element.textContent = text;\n",
              "  for (const key of Object.keys(styleAttributes)) {\n",
              "    element.style[key] = styleAttributes[key];\n",
              "  }\n",
              "  return element;\n",
              "}\n",
              "\n",
              "// Max number of bytes which will be uploaded at a time.\n",
              "const MAX_PAYLOAD_SIZE = 100 * 1024;\n",
              "\n",
              "function _uploadFiles(inputId, outputId) {\n",
              "  const steps = uploadFilesStep(inputId, outputId);\n",
              "  const outputElement = document.getElementById(outputId);\n",
              "  // Cache steps on the outputElement to make it available for the next call\n",
              "  // to uploadFilesContinue from Python.\n",
              "  outputElement.steps = steps;\n",
              "\n",
              "  return _uploadFilesContinue(outputId);\n",
              "}\n",
              "\n",
              "// This is roughly an async generator (not supported in the browser yet),\n",
              "// where there are multiple asynchronous steps and the Python side is going\n",
              "// to poll for completion of each step.\n",
              "// This uses a Promise to block the python side on completion of each step,\n",
              "// then passes the result of the previous step as the input to the next step.\n",
              "function _uploadFilesContinue(outputId) {\n",
              "  const outputElement = document.getElementById(outputId);\n",
              "  const steps = outputElement.steps;\n",
              "\n",
              "  const next = steps.next(outputElement.lastPromiseValue);\n",
              "  return Promise.resolve(next.value.promise).then((value) => {\n",
              "    // Cache the last promise value to make it available to the next\n",
              "    // step of the generator.\n",
              "    outputElement.lastPromiseValue = value;\n",
              "    return next.value.response;\n",
              "  });\n",
              "}\n",
              "\n",
              "/**\n",
              " * Generator function which is called between each async step of the upload\n",
              " * process.\n",
              " * @param {string} inputId Element ID of the input file picker element.\n",
              " * @param {string} outputId Element ID of the output display.\n",
              " * @return {!Iterable<!Object>} Iterable of next steps.\n",
              " */\n",
              "function* uploadFilesStep(inputId, outputId) {\n",
              "  const inputElement = document.getElementById(inputId);\n",
              "  inputElement.disabled = false;\n",
              "\n",
              "  const outputElement = document.getElementById(outputId);\n",
              "  outputElement.innerHTML = '';\n",
              "\n",
              "  const pickedPromise = new Promise((resolve) => {\n",
              "    inputElement.addEventListener('change', (e) => {\n",
              "      resolve(e.target.files);\n",
              "    });\n",
              "  });\n",
              "\n",
              "  const cancel = document.createElement('button');\n",
              "  inputElement.parentElement.appendChild(cancel);\n",
              "  cancel.textContent = 'Cancel upload';\n",
              "  const cancelPromise = new Promise((resolve) => {\n",
              "    cancel.onclick = () => {\n",
              "      resolve(null);\n",
              "    };\n",
              "  });\n",
              "\n",
              "  // Wait for the user to pick the files.\n",
              "  const files = yield {\n",
              "    promise: Promise.race([pickedPromise, cancelPromise]),\n",
              "    response: {\n",
              "      action: 'starting',\n",
              "    }\n",
              "  };\n",
              "\n",
              "  cancel.remove();\n",
              "\n",
              "  // Disable the input element since further picks are not allowed.\n",
              "  inputElement.disabled = true;\n",
              "\n",
              "  if (!files) {\n",
              "    return {\n",
              "      response: {\n",
              "        action: 'complete',\n",
              "      }\n",
              "    };\n",
              "  }\n",
              "\n",
              "  for (const file of files) {\n",
              "    const li = document.createElement('li');\n",
              "    li.append(span(file.name, {fontWeight: 'bold'}));\n",
              "    li.append(span(\n",
              "        `(${file.type || 'n/a'}) - ${file.size} bytes, ` +\n",
              "        `last modified: ${\n",
              "            file.lastModifiedDate ? file.lastModifiedDate.toLocaleDateString() :\n",
              "                                    'n/a'} - `));\n",
              "    const percent = span('0% done');\n",
              "    li.appendChild(percent);\n",
              "\n",
              "    outputElement.appendChild(li);\n",
              "\n",
              "    const fileDataPromise = new Promise((resolve) => {\n",
              "      const reader = new FileReader();\n",
              "      reader.onload = (e) => {\n",
              "        resolve(e.target.result);\n",
              "      };\n",
              "      reader.readAsArrayBuffer(file);\n",
              "    });\n",
              "    // Wait for the data to be ready.\n",
              "    let fileData = yield {\n",
              "      promise: fileDataPromise,\n",
              "      response: {\n",
              "        action: 'continue',\n",
              "      }\n",
              "    };\n",
              "\n",
              "    // Use a chunked sending to avoid message size limits. See b/62115660.\n",
              "    let position = 0;\n",
              "    do {\n",
              "      const length = Math.min(fileData.byteLength - position, MAX_PAYLOAD_SIZE);\n",
              "      const chunk = new Uint8Array(fileData, position, length);\n",
              "      position += length;\n",
              "\n",
              "      const base64 = btoa(String.fromCharCode.apply(null, chunk));\n",
              "      yield {\n",
              "        response: {\n",
              "          action: 'append',\n",
              "          file: file.name,\n",
              "          data: base64,\n",
              "        },\n",
              "      };\n",
              "\n",
              "      let percentDone = fileData.byteLength === 0 ?\n",
              "          100 :\n",
              "          Math.round((position / fileData.byteLength) * 100);\n",
              "      percent.textContent = `${percentDone}% done`;\n",
              "\n",
              "    } while (position < fileData.byteLength);\n",
              "  }\n",
              "\n",
              "  // All done.\n",
              "  yield {\n",
              "    response: {\n",
              "      action: 'complete',\n",
              "    }\n",
              "  };\n",
              "}\n",
              "\n",
              "scope.google = scope.google || {};\n",
              "scope.google.colab = scope.google.colab || {};\n",
              "scope.google.colab._files = {\n",
              "  _uploadFiles,\n",
              "  _uploadFilesContinue,\n",
              "};\n",
              "})(self);\n",
              "</script> "
            ]
          },
          "metadata": {}
        },
        {
          "output_type": "stream",
          "name": "stdout",
          "text": [
            "Saving lossfunction.py to lossfunction.py\n"
          ]
        },
        {
          "output_type": "execute_result",
          "data": {
            "text/plain": [
              "{'lossfunction.py': b'# -*- coding: utf-8 -*-\\n\"\"\"lossfunction.ipynb\\n\\nAutomatically generated by Colab.\\n\\nOriginal file is located at\\n    https://colab.research.google.com/drive/17Q8dJ6w26LXJiabzLy9kRRxsszPLleBb\\n\"\"\"\\n\\nimport numpy as np\\n\\nclass LossFunc:\\n\\n  def __init__(self):\\n    pass\\n\\n  def hinge_loss(self,W,X_tr,y_tr):\\n    s = W.dot(X_tr)\\n    y_s = s[y_tr, np.arange(X_tr.shape[1])]\\n    margin = np.maximum(0, s-y_s+1)\\n    margin[y_tr, np.arange(X_tr.shape[1])] = 0\\n    loss_i = np.sum(margin, axis = 0)\\n\\n    return np.mean(loss_i)\\n\\n  def softmax_loss(self,W,X_tr,y_tr):\\n    s = W.dot(X_tr)\\n    exp_s = np.exp(s)\\n\\n    norm_y_s = exp_s / np.sum(exp_s, axis=0)\\n    loss_i = -np.log(norm_y_s[y_tr, np.arange(X_tr.shape[1])])\\n\\n    return np.mean(loss_i)\\n\\n\"\"\"return value\\xeb\\xa5\\xbc np.sum(loss_i)\\xeb\\xa1\\x9c \\xed\\x95\\xb4\\xeb\\x8f\\x84 \\xec\\xb5\\x9c\\xec\\xa0\\x81\\xec\\x9d\\x98 W\\xeb\\xa5\\xbc \\xec\\xb0\\xbe\\xeb\\x8a\\x94\\xeb\\x8d\\xb0\\xec\\x97\\x90 \\xec\\xa7\\x80\\xec\\x9e\\xa5\\xec\\x9d\\x80 \\xec\\x97\\x86\\xec\\x9d\\x8c.\"\"\"'}"
            ]
          },
          "metadata": {},
          "execution_count": 2
        }
      ]
    },
    {
      "cell_type": "code",
      "source": [
        "def unpickle(file):\n",
        "  import pickle\n",
        "  with open(file,'rb') as fo:\n",
        "    dict = pickle.load(fo, encoding='bytes')\n",
        "  return dict"
      ],
      "metadata": {
        "id": "8Erckhcx-PbY"
      },
      "execution_count": null,
      "outputs": []
    },
    {
      "cell_type": "code",
      "source": [
        "bat1 = unpickle('data_batch_1')\n",
        "bat2 = unpickle('data_batch_2')\n",
        "bat3 = unpickle('data_batch_3')\n",
        "bat4 = unpickle('data_batch_4')\n",
        "bat5 = unpickle('data_batch_5')\n",
        "bat_test = unpickle('test_batch')"
      ],
      "metadata": {
        "id": "E7Qu95YR-dK9"
      },
      "execution_count": null,
      "outputs": []
    },
    {
      "cell_type": "code",
      "source": [
        "import numpy as np\n",
        "\n",
        "data = np.concatenate([bat1[b'data'], bat2[b'data'], bat3[b'data'], bat4[b'data'], bat5[b'data']])\n",
        "labels = np.concatenate([bat1[b'labels'], bat2[b'labels'], bat3[b'labels'], bat4[b'labels'], bat5[b'labels']])"
      ],
      "metadata": {
        "id": "d86_FBJC-ndr"
      },
      "execution_count": null,
      "outputs": []
    },
    {
      "cell_type": "code",
      "source": [
        "train_data = data.T\n",
        "train_label = labels\n",
        "test_data = bat_test[b'data']\n",
        "test_label = bat_test[b'labels']"
      ],
      "metadata": {
        "id": "TlIB2-uG_jst"
      },
      "execution_count": null,
      "outputs": []
    },
    {
      "cell_type": "code",
      "source": [
        "from lossfunction import LossFunc\n",
        "\n",
        "LF = LossFunc()\n",
        "\n",
        "acc_hinge = [0,0,0]\n",
        "acc_softmax = [0,0,0]\n",
        "\n",
        "for i in range(3):\n",
        "  bestloss = float('inf')\n",
        "  print(\"[Hinge Loss - %d]\" % i)\n",
        "\n",
        "  for num in range(1000):\n",
        "    W = np.random.randn(10,3072) * 0.0001\n",
        "    loss = LF.hinge_loss(W,train_data,train_label)\n",
        "    if loss < bestloss:\n",
        "      bestloss = loss\n",
        "      bestW = W\n",
        "      print(\"in attempt %d the loss was %f, best %f\" % (num, loss, bestloss))\n",
        "\n",
        "  scores = bestW.dot(test_data.T)\n",
        "  Y_predict = np.argmax(scores, axis = 0)\n",
        "  acc_hinge[i] = np.mean(Y_predict == test_label) * 100\n",
        "  print(\"The accuracy is %f\\n\" % acc_hinge[i])\n",
        "\n",
        "print('===================================================\\n')\n",
        "\n",
        "for i in range(3):\n",
        "  bestloss = float('inf')\n",
        "  print(\"[Cross Entropy Loss - %d]\" % i)\n",
        "\n",
        "  for num in range(1000):\n",
        "    W = np.random.randn(10,3072) * 0.0001\n",
        "    loss = LF.softmax_loss(W,train_data,train_label)\n",
        "    if loss < bestloss:\n",
        "      bestloss = loss\n",
        "      bestW = W\n",
        "      print(\"in attempt %d the loss was %f, best %f\" % (num, loss, bestloss))\n",
        "\n",
        "  scores = bestW.dot(test_data.T)\n",
        "  Y_predict = np.argmax(scores, axis = 0)\n",
        "  acc_softmax[i] = np.mean(Y_predict == test_label) * 100\n",
        "  print(\"The accuracy is %f\\n\" % acc_softmax[i])\n",
        "\n",
        "print(\"Done\")"
      ],
      "metadata": {
        "colab": {
          "base_uri": "https://localhost:8080/"
        },
        "id": "Zdx6_5iD_x-c",
        "outputId": "43d1bad4-b2b3-4278-bf0c-95bbb57855df"
      },
      "execution_count": null,
      "outputs": [
        {
          "output_type": "stream",
          "name": "stdout",
          "text": [
            "[Hinge Loss - 0]\n",
            "in attempt 0 the loss was 9.554882, best 9.554882\n",
            "in attempt 2 the loss was 9.352931, best 9.352931\n",
            "in attempt 9 the loss was 9.328956, best 9.328956\n",
            "in attempt 18 the loss was 9.213359, best 9.213359\n",
            "in attempt 28 the loss was 9.171796, best 9.171796\n",
            "in attempt 31 the loss was 9.129649, best 9.129649\n",
            "in attempt 44 the loss was 9.078479, best 9.078479\n",
            "in attempt 86 the loss was 8.793238, best 8.793238\n",
            "in attempt 363 the loss was 8.636822, best 8.636822\n",
            "The accuracy is 10.930000\n",
            "\n",
            "[Hinge Loss - 1]\n",
            "in attempt 0 the loss was 10.131792, best 10.131792\n",
            "in attempt 1 the loss was 9.935222, best 9.935222\n",
            "in attempt 3 the loss was 9.681505, best 9.681505\n",
            "in attempt 4 the loss was 9.432893, best 9.432893\n",
            "in attempt 5 the loss was 9.344552, best 9.344552\n",
            "in attempt 13 the loss was 9.235383, best 9.235383\n",
            "in attempt 19 the loss was 8.850993, best 8.850993\n",
            "in attempt 142 the loss was 8.788830, best 8.788830\n",
            "in attempt 764 the loss was 8.746877, best 8.746877\n",
            "The accuracy is 10.360000\n",
            "\n",
            "[Hinge Loss - 2]\n",
            "in attempt 0 the loss was 11.109235, best 11.109235\n",
            "in attempt 1 the loss was 9.916548, best 9.916548\n",
            "in attempt 2 the loss was 9.349877, best 9.349877\n",
            "in attempt 8 the loss was 9.065004, best 9.065004\n",
            "in attempt 21 the loss was 9.057769, best 9.057769\n",
            "in attempt 24 the loss was 8.901861, best 8.901861\n",
            "in attempt 299 the loss was 8.842673, best 8.842673\n",
            "in attempt 400 the loss was 8.826101, best 8.826101\n",
            "in attempt 948 the loss was 8.713413, best 8.713413\n",
            "The accuracy is 10.890000\n",
            "\n",
            "===================================================\n",
            "\n",
            "[Cross Entropy Loss - 0]\n",
            "in attempt 0 the loss was 2.569322, best 2.569322\n",
            "in attempt 2 the loss was 2.465916, best 2.465916\n",
            "in attempt 3 the loss was 2.409386, best 2.409386\n",
            "in attempt 7 the loss was 2.406582, best 2.406582\n",
            "in attempt 19 the loss was 2.396484, best 2.396484\n",
            "in attempt 25 the loss was 2.368692, best 2.368692\n",
            "in attempt 120 the loss was 2.326377, best 2.326377\n",
            "The accuracy is 12.940000\n",
            "\n",
            "[Cross Entropy Loss - 1]\n",
            "in attempt 0 the loss was 2.550148, best 2.550148\n",
            "in attempt 1 the loss was 2.459225, best 2.459225\n",
            "in attempt 4 the loss was 2.419063, best 2.419063\n",
            "in attempt 12 the loss was 2.375935, best 2.375935\n",
            "in attempt 18 the loss was 2.344359, best 2.344359\n",
            "in attempt 100 the loss was 2.341037, best 2.341037\n",
            "The accuracy is 10.180000\n",
            "\n",
            "[Cross Entropy Loss - 2]\n",
            "in attempt 0 the loss was 2.495943, best 2.495943\n",
            "in attempt 12 the loss was 2.463152, best 2.463152\n",
            "in attempt 17 the loss was 2.446429, best 2.446429\n",
            "in attempt 18 the loss was 2.349553, best 2.349553\n",
            "The accuracy is 11.560000\n",
            "\n",
            "Done\n"
          ]
        }
      ]
    },
    {
      "cell_type": "markdown",
      "source": [
        "SVM과 Softmax 각각에 대하여 1000회에 걸쳐 Random Search 방식으로 최적의 W를 구하는 과정으로 이를 3회 반복 수행하였다."
      ],
      "metadata": {
        "id": "zegHELCEGLrQ"
      }
    },
    {
      "cell_type": "code",
      "source": [
        "avg_acc_hinge = 0\n",
        "avg_acc_softmax = 0\n",
        "\n",
        "for i in range(3):\n",
        "  avg_acc_hinge += acc_hinge[i]\n",
        "  avg_acc_softmax += acc_softmax[i]\n",
        "\n",
        "avg_acc_hinge /= 3\n",
        "avg_acc_softmax /= 3\n",
        "\n",
        "print('Hinge : %f, Cross Entropy : %f' % (avg_acc_hinge, avg_acc_softmax))"
      ],
      "metadata": {
        "colab": {
          "base_uri": "https://localhost:8080/"
        },
        "id": "1WGspJUdG12h",
        "outputId": "dbbd370a-0734-4e3f-eef6-99b1f7152d3f"
      },
      "execution_count": null,
      "outputs": [
        {
          "output_type": "stream",
          "name": "stdout",
          "text": [
            "Hinge : 10.726667, Cross Entropy : 11.560000\n"
          ]
        }
      ]
    },
    {
      "cell_type": "markdown",
      "source": [
        "Hinge loss와 Softmax loss 방식에 대해 3회 반복 수행한 accuracy의 평균을 출력하였음."
      ],
      "metadata": {
        "id": "cT5dhO6EJmOX"
      }
    },
    {
      "cell_type": "markdown",
      "source": [
        "#결론\n",
        "\n",
        "Hinge loss와 Softmax loss 방식에 대한 Random Search는 각각의 Predict Accuracy가 모두 10% 내외로 실행 시간 대비 좋은 성능을 보여주지 못했다."
      ],
      "metadata": {
        "id": "2XUHNNAiSGqy"
      }
    }
  ]
}