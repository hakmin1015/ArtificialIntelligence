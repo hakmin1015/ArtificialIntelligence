{
  "nbformat": 4,
  "nbformat_minor": 0,
  "metadata": {
    "colab": {
      "provenance": [],
      "mount_file_id": "1EyVOZiNWqs5yuuMiHIGAsHnDldSlNGa8",
      "authorship_tag": "ABX9TyN+oiv7FbDTSprcaBHIgE0S",
      "include_colab_link": true
    },
    "kernelspec": {
      "name": "python3",
      "display_name": "Python 3"
    },
    "language_info": {
      "name": "python"
    }
  },
  "cells": [
    {
      "cell_type": "markdown",
      "metadata": {
        "id": "view-in-github",
        "colab_type": "text"
      },
      "source": [
        "<a href=\"https://colab.research.google.com/github/hakmin1015/ArtificialIntelligence/blob/main/lab3_Fundamentals.ipynb\" target=\"_parent\"><img src=\"https://colab.research.google.com/assets/colab-badge.svg\" alt=\"Open In Colab\"/></a>"
      ]
    },
    {
      "cell_type": "code",
      "source": [
        "import numpy as np"
      ],
      "metadata": {
        "id": "8e7yEpWCjJeN"
      },
      "execution_count": null,
      "outputs": []
    },
    {
      "cell_type": "code",
      "source": [
        "def unpickle(file):\n",
        "  import pickle\n",
        "  with open(file, 'rb') as fo:\n",
        "    dict = pickle.load(fo, encoding='bytes')\n",
        "  return dict"
      ],
      "metadata": {
        "id": "cuJgz75IjOlo"
      },
      "execution_count": null,
      "outputs": []
    },
    {
      "cell_type": "code",
      "source": [
        "test = unpickle('/content/drive/MyDrive/AI/lab3/data_batch_1')\n",
        "print(type(test))"
      ],
      "metadata": {
        "colab": {
          "base_uri": "https://localhost:8080/"
        },
        "id": "iowrSfe0jcZ2",
        "outputId": "d7758e43-e8ff-4d81-daa9-8644497a8a04"
      },
      "execution_count": null,
      "outputs": [
        {
          "output_type": "stream",
          "name": "stdout",
          "text": [
            "<class 'dict'>\n"
          ]
        }
      ]
    },
    {
      "cell_type": "code",
      "source": [
        "test.keys()"
      ],
      "metadata": {
        "colab": {
          "base_uri": "https://localhost:8080/"
        },
        "id": "G2MI9utGjzHy",
        "outputId": "92a18186-afbc-441f-ae5f-2a2554386353"
      },
      "execution_count": null,
      "outputs": [
        {
          "output_type": "execute_result",
          "data": {
            "text/plain": [
              "dict_keys([b'batch_label', b'labels', b'data', b'filenames'])"
            ]
          },
          "metadata": {},
          "execution_count": 4
        }
      ]
    },
    {
      "cell_type": "code",
      "source": [
        "for item in test:\n",
        "  print(item, type(test[item]))"
      ],
      "metadata": {
        "colab": {
          "base_uri": "https://localhost:8080/"
        },
        "id": "MORyDq60kwPy",
        "outputId": "05148453-0275-49ed-9b5c-0a34d8d1cec7"
      },
      "execution_count": null,
      "outputs": [
        {
          "output_type": "stream",
          "name": "stdout",
          "text": [
            "b'batch_label' <class 'bytes'>\n",
            "b'labels' <class 'list'>\n",
            "b'data' <class 'numpy.ndarray'>\n",
            "b'filenames' <class 'list'>\n"
          ]
        }
      ]
    },
    {
      "cell_type": "code",
      "source": [
        "set(test[b'labels'])"
      ],
      "metadata": {
        "colab": {
          "base_uri": "https://localhost:8080/"
        },
        "id": "0HuotoFOk1fm",
        "outputId": "e926561b-8073-4f28-f5ca-95a464bf095c"
      },
      "execution_count": null,
      "outputs": [
        {
          "output_type": "execute_result",
          "data": {
            "text/plain": [
              "{0, 1, 2, 3, 4, 5, 6, 7, 8, 9}"
            ]
          },
          "metadata": {},
          "execution_count": 6
        }
      ]
    },
    {
      "cell_type": "code",
      "source": [
        "test[b'data']"
      ],
      "metadata": {
        "colab": {
          "base_uri": "https://localhost:8080/"
        },
        "id": "KaMbyZGnk5aK",
        "outputId": "387658f6-cdd1-4711-bf3c-96267b374c59"
      },
      "execution_count": null,
      "outputs": [
        {
          "output_type": "execute_result",
          "data": {
            "text/plain": [
              "array([[ 59,  43,  50, ..., 140,  84,  72],\n",
              "       [154, 126, 105, ..., 139, 142, 144],\n",
              "       [255, 253, 253, ...,  83,  83,  84],\n",
              "       ...,\n",
              "       [ 71,  60,  74, ...,  68,  69,  68],\n",
              "       [250, 254, 211, ..., 215, 255, 254],\n",
              "       [ 62,  61,  60, ..., 130, 130, 131]], dtype=uint8)"
            ]
          },
          "metadata": {},
          "execution_count": 13
        }
      ]
    },
    {
      "cell_type": "code",
      "source": [
        "np.shape(test[b'data'])"
      ],
      "metadata": {
        "colab": {
          "base_uri": "https://localhost:8080/"
        },
        "id": "6_tLYt0dk7SJ",
        "outputId": "7217dc16-a0d4-4bed-d1f6-e3d444ce1740"
      },
      "execution_count": null,
      "outputs": [
        {
          "output_type": "execute_result",
          "data": {
            "text/plain": [
              "(10000, 3072)"
            ]
          },
          "metadata": {},
          "execution_count": 9
        }
      ]
    },
    {
      "cell_type": "code",
      "source": [
        "meta = unpickle('/content/drive/MyDrive/AI/lab3/batches.meta')"
      ],
      "metadata": {
        "id": "qXPvo5zmk-EQ"
      },
      "execution_count": null,
      "outputs": []
    },
    {
      "cell_type": "code",
      "source": [
        "type(meta)\n",
        "meta.keys()"
      ],
      "metadata": {
        "colab": {
          "base_uri": "https://localhost:8080/"
        },
        "id": "KvQ0xPqylFK5",
        "outputId": "96d23777-7db4-4261-fea0-56108411e166"
      },
      "execution_count": null,
      "outputs": [
        {
          "output_type": "execute_result",
          "data": {
            "text/plain": [
              "dict_keys([b'num_cases_per_batch', b'label_names', b'num_vis'])"
            ]
          },
          "metadata": {},
          "execution_count": 11
        }
      ]
    },
    {
      "cell_type": "code",
      "source": [
        "meta[b'label_names']"
      ],
      "metadata": {
        "colab": {
          "base_uri": "https://localhost:8080/"
        },
        "id": "gUnyucTYlIAv",
        "outputId": "90eb5518-97f1-4969-acf3-649fcaee721c"
      },
      "execution_count": null,
      "outputs": [
        {
          "output_type": "execute_result",
          "data": {
            "text/plain": [
              "[b'airplane',\n",
              " b'automobile',\n",
              " b'bird',\n",
              " b'cat',\n",
              " b'deer',\n",
              " b'dog',\n",
              " b'frog',\n",
              " b'horse',\n",
              " b'ship',\n",
              " b'truck']"
            ]
          },
          "metadata": {},
          "execution_count": 12
        }
      ]
    }
  ]
}