{
  "nbformat": 4,
  "nbformat_minor": 0,
  "metadata": {
    "colab": {
      "provenance": [],
      "mount_file_id": "1AkbW8nTKc5PTP1C7pflt818YSyTfy9rt",
      "authorship_tag": "ABX9TyM6mUAaIwwdoymY4oB3KQYc",
      "include_colab_link": true
    },
    "kernelspec": {
      "name": "python3",
      "display_name": "Python 3"
    },
    "language_info": {
      "name": "python"
    }
  },
  "cells": [
    {
      "cell_type": "markdown",
      "metadata": {
        "id": "view-in-github",
        "colab_type": "text"
      },
      "source": [
        "<a href=\"https://colab.research.google.com/github/hakmin1015/ArtificialIntelligence/blob/main/Homework_2.ipynb\" target=\"_parent\"><img src=\"https://colab.research.google.com/assets/colab-badge.svg\" alt=\"Open In Colab\"/></a>"
      ]
    },
    {
      "cell_type": "markdown",
      "source": [
        "<div align=\"center\">\n",
        "\n",
        "![header](https://capsule-render.vercel.app/api?type=soft&text=Image%20Classification%20using%20K-Nearest%20Neighbor&fontSize=28&fontAlignY=50&height=100&color=b2e39c)\n",
        "\n",
        "|숙제번호|과목명|이름|전공|학번|\n",
        "|:------:|:----:|:--:|:--:|:--:|\n",
        "|Homework #2|인공지능|이학민|융합전자공학전공|201910906|\n",
        "\n",
        "<img src=\"https://img.shields.io/badge/Python-3776AB?style=flat-square&logo=Python&logoColor=white\"/> <img src=\"https://img.shields.io/badge/TensorFlow-FF6F00?style=flat-square&logo=tensorflow&logoColor=white\"/> <img src=\"https://img.shields.io/badge/Google Colab-F9AB00?style=flat-square&logo=googlecolab&logoColor=white\"/> <img src=\"https://img.shields.io/badge/Jupyter Notebook-F37626?style=flat-square&logo=jupyter&logoColor=white\">\n",
        "***\n",
        "\n"
      ],
      "metadata": {
        "id": "kWBVF77uCWZn"
      }
    },
    {
      "cell_type": "markdown",
      "source": [
        "# 과제 설명\n",
        "\n",
        "* K-Nearest Neighbor(KNN) 구현\n",
        "* 임의의 K를 입력받을 수 있도록 하고 K의 값으로 1,3,5,7,9,11,13,15을 사용하여 테스트를 진행한다.\n",
        "* Neighbor의 Distance 계산 방식으로 L1(Manhattan)과 L2(Euclidean)을 적용한다.\n",
        "* 주어진 데이터에서 KNN 알고리즘에서 사용할 수 있는 최적의 K value와 Distance 계산 방식이 무엇인지 결정한다.\n",
        "* 데이터를 불러오는 Type이 달라지면 어떤 변화가 생기는지 실험한다."
      ],
      "metadata": {
        "id": "YZ96GKX5Mtvp"
      }
    },
    {
      "cell_type": "code",
      "execution_count": null,
      "metadata": {
        "colab": {
          "base_uri": "https://localhost:8080/"
        },
        "id": "UzBgwdXMldwH",
        "outputId": "753fa4af-c429-439f-feae-4b16871756fe"
      },
      "outputs": [
        {
          "output_type": "stream",
          "name": "stdout",
          "text": [
            "Drive already mounted at /content/drive/; to attempt to forcibly remount, call drive.mount(\"/content/drive/\", force_remount=True).\n"
          ]
        }
      ],
      "source": [
        "import numpy as np\n",
        "from google.colab import drive\n",
        "drive.mount('/content/drive/')"
      ]
    },
    {
      "cell_type": "code",
      "source": [
        "%cd /content/drive/MyDrive/AI/lab3/\n",
        "!pwd"
      ],
      "metadata": {
        "colab": {
          "base_uri": "https://localhost:8080/"
        },
        "id": "2kvr4N5jlixK",
        "outputId": "aa161960-1adf-47af-8757-0eb2b7fd17d2"
      },
      "execution_count": null,
      "outputs": [
        {
          "output_type": "stream",
          "name": "stdout",
          "text": [
            "/content/drive/MyDrive/AI/lab3\n",
            "/content/drive/MyDrive/AI/lab3\n"
          ]
        }
      ]
    },
    {
      "cell_type": "code",
      "source": [
        "def unpickle(file):\n",
        "  import pickle\n",
        "  with open(file, 'rb') as fo:\n",
        "    dict = pickle.load(fo, encoding='bytes')\n",
        "  return dict"
      ],
      "metadata": {
        "id": "65D05fNZlz9O"
      },
      "execution_count": null,
      "outputs": []
    },
    {
      "cell_type": "code",
      "source": [
        "bat1 = unpickle('data_batch_1')\n",
        "bat2 = unpickle('data_batch_2')\n",
        "bat3 = unpickle('data_batch_3')\n",
        "bat4 = unpickle('data_batch_4')\n",
        "bat5 = unpickle('data_batch_5')\n",
        "bat_test = unpickle('test_batch')"
      ],
      "metadata": {
        "id": "5f1c0wTNmGcQ"
      },
      "execution_count": null,
      "outputs": []
    },
    {
      "cell_type": "code",
      "source": [
        "data = np.concatenate([bat1[b'data'], bat2[b'data'], bat3[b'data'], bat4[b'data'], bat5[b'data']])\n",
        "labels = np.concatenate([bat1[b'labels'], bat2[b'labels'], bat3[b'labels'], bat4[b'labels'], bat5[b'labels']])"
      ],
      "metadata": {
        "id": "-B3PXu4LmXIk"
      },
      "execution_count": null,
      "outputs": []
    },
    {
      "cell_type": "code",
      "source": [
        "np.shape(data)"
      ],
      "metadata": {
        "colab": {
          "base_uri": "https://localhost:8080/"
        },
        "id": "D5VSpckrm7ha",
        "outputId": "778dffaa-7dd5-449f-a936-4531f385f185"
      },
      "execution_count": null,
      "outputs": [
        {
          "output_type": "execute_result",
          "data": {
            "text/plain": [
              "(50000, 3072)"
            ]
          },
          "metadata": {},
          "execution_count": 6
        }
      ]
    },
    {
      "cell_type": "code",
      "source": [
        "np.shape(labels)"
      ],
      "metadata": {
        "colab": {
          "base_uri": "https://localhost:8080/"
        },
        "id": "_Enn7xJom83Y",
        "outputId": "a711e732-4cb4-4da0-be1a-d5efca34d013"
      },
      "execution_count": null,
      "outputs": [
        {
          "output_type": "execute_result",
          "data": {
            "text/plain": [
              "(50000,)"
            ]
          },
          "metadata": {},
          "execution_count": 7
        }
      ]
    },
    {
      "cell_type": "code",
      "source": [
        "train_data = data\n",
        "train_label = labels\n",
        "test_data = bat_test[b'data']\n",
        "test_label = bat_test[b'labels']\n",
        "test_size = 10\n",
        "type(data[0,0])"
      ],
      "metadata": {
        "colab": {
          "base_uri": "https://localhost:8080/"
        },
        "id": "so94h7NZHJaf",
        "outputId": "5eebadd7-9349-4c42-cc8f-dc7ba7c11481"
      },
      "execution_count": null,
      "outputs": [
        {
          "output_type": "execute_result",
          "data": {
            "text/plain": [
              "numpy.uint8"
            ]
          },
          "metadata": {},
          "execution_count": 8
        }
      ]
    },
    {
      "cell_type": "code",
      "source": [
        "from google.colab import files\n",
        "files.upload()"
      ],
      "metadata": {
        "colab": {
          "base_uri": "https://localhost:8080/",
          "height": 511
        },
        "id": "vlVv2sE_nLpP",
        "outputId": "19a980ca-50eb-4c93-cd71-2b381d7858fb"
      },
      "execution_count": null,
      "outputs": [
        {
          "output_type": "display_data",
          "data": {
            "text/plain": [
              "<IPython.core.display.HTML object>"
            ],
            "text/html": [
              "\n",
              "     <input type=\"file\" id=\"files-81b4c4c7-e5b2-4e73-bf16-f363e5ed96e0\" name=\"files[]\" multiple disabled\n",
              "        style=\"border:none\" />\n",
              "     <output id=\"result-81b4c4c7-e5b2-4e73-bf16-f363e5ed96e0\">\n",
              "      Upload widget is only available when the cell has been executed in the\n",
              "      current browser session. Please rerun this cell to enable.\n",
              "      </output>\n",
              "      <script>// Copyright 2017 Google LLC\n",
              "//\n",
              "// Licensed under the Apache License, Version 2.0 (the \"License\");\n",
              "// you may not use this file except in compliance with the License.\n",
              "// You may obtain a copy of the License at\n",
              "//\n",
              "//      http://www.apache.org/licenses/LICENSE-2.0\n",
              "//\n",
              "// Unless required by applicable law or agreed to in writing, software\n",
              "// distributed under the License is distributed on an \"AS IS\" BASIS,\n",
              "// WITHOUT WARRANTIES OR CONDITIONS OF ANY KIND, either express or implied.\n",
              "// See the License for the specific language governing permissions and\n",
              "// limitations under the License.\n",
              "\n",
              "/**\n",
              " * @fileoverview Helpers for google.colab Python module.\n",
              " */\n",
              "(function(scope) {\n",
              "function span(text, styleAttributes = {}) {\n",
              "  const element = document.createElement('span');\n",
              "  element.textContent = text;\n",
              "  for (const key of Object.keys(styleAttributes)) {\n",
              "    element.style[key] = styleAttributes[key];\n",
              "  }\n",
              "  return element;\n",
              "}\n",
              "\n",
              "// Max number of bytes which will be uploaded at a time.\n",
              "const MAX_PAYLOAD_SIZE = 100 * 1024;\n",
              "\n",
              "function _uploadFiles(inputId, outputId) {\n",
              "  const steps = uploadFilesStep(inputId, outputId);\n",
              "  const outputElement = document.getElementById(outputId);\n",
              "  // Cache steps on the outputElement to make it available for the next call\n",
              "  // to uploadFilesContinue from Python.\n",
              "  outputElement.steps = steps;\n",
              "\n",
              "  return _uploadFilesContinue(outputId);\n",
              "}\n",
              "\n",
              "// This is roughly an async generator (not supported in the browser yet),\n",
              "// where there are multiple asynchronous steps and the Python side is going\n",
              "// to poll for completion of each step.\n",
              "// This uses a Promise to block the python side on completion of each step,\n",
              "// then passes the result of the previous step as the input to the next step.\n",
              "function _uploadFilesContinue(outputId) {\n",
              "  const outputElement = document.getElementById(outputId);\n",
              "  const steps = outputElement.steps;\n",
              "\n",
              "  const next = steps.next(outputElement.lastPromiseValue);\n",
              "  return Promise.resolve(next.value.promise).then((value) => {\n",
              "    // Cache the last promise value to make it available to the next\n",
              "    // step of the generator.\n",
              "    outputElement.lastPromiseValue = value;\n",
              "    return next.value.response;\n",
              "  });\n",
              "}\n",
              "\n",
              "/**\n",
              " * Generator function which is called between each async step of the upload\n",
              " * process.\n",
              " * @param {string} inputId Element ID of the input file picker element.\n",
              " * @param {string} outputId Element ID of the output display.\n",
              " * @return {!Iterable<!Object>} Iterable of next steps.\n",
              " */\n",
              "function* uploadFilesStep(inputId, outputId) {\n",
              "  const inputElement = document.getElementById(inputId);\n",
              "  inputElement.disabled = false;\n",
              "\n",
              "  const outputElement = document.getElementById(outputId);\n",
              "  outputElement.innerHTML = '';\n",
              "\n",
              "  const pickedPromise = new Promise((resolve) => {\n",
              "    inputElement.addEventListener('change', (e) => {\n",
              "      resolve(e.target.files);\n",
              "    });\n",
              "  });\n",
              "\n",
              "  const cancel = document.createElement('button');\n",
              "  inputElement.parentElement.appendChild(cancel);\n",
              "  cancel.textContent = 'Cancel upload';\n",
              "  const cancelPromise = new Promise((resolve) => {\n",
              "    cancel.onclick = () => {\n",
              "      resolve(null);\n",
              "    };\n",
              "  });\n",
              "\n",
              "  // Wait for the user to pick the files.\n",
              "  const files = yield {\n",
              "    promise: Promise.race([pickedPromise, cancelPromise]),\n",
              "    response: {\n",
              "      action: 'starting',\n",
              "    }\n",
              "  };\n",
              "\n",
              "  cancel.remove();\n",
              "\n",
              "  // Disable the input element since further picks are not allowed.\n",
              "  inputElement.disabled = true;\n",
              "\n",
              "  if (!files) {\n",
              "    return {\n",
              "      response: {\n",
              "        action: 'complete',\n",
              "      }\n",
              "    };\n",
              "  }\n",
              "\n",
              "  for (const file of files) {\n",
              "    const li = document.createElement('li');\n",
              "    li.append(span(file.name, {fontWeight: 'bold'}));\n",
              "    li.append(span(\n",
              "        `(${file.type || 'n/a'}) - ${file.size} bytes, ` +\n",
              "        `last modified: ${\n",
              "            file.lastModifiedDate ? file.lastModifiedDate.toLocaleDateString() :\n",
              "                                    'n/a'} - `));\n",
              "    const percent = span('0% done');\n",
              "    li.appendChild(percent);\n",
              "\n",
              "    outputElement.appendChild(li);\n",
              "\n",
              "    const fileDataPromise = new Promise((resolve) => {\n",
              "      const reader = new FileReader();\n",
              "      reader.onload = (e) => {\n",
              "        resolve(e.target.result);\n",
              "      };\n",
              "      reader.readAsArrayBuffer(file);\n",
              "    });\n",
              "    // Wait for the data to be ready.\n",
              "    let fileData = yield {\n",
              "      promise: fileDataPromise,\n",
              "      response: {\n",
              "        action: 'continue',\n",
              "      }\n",
              "    };\n",
              "\n",
              "    // Use a chunked sending to avoid message size limits. See b/62115660.\n",
              "    let position = 0;\n",
              "    do {\n",
              "      const length = Math.min(fileData.byteLength - position, MAX_PAYLOAD_SIZE);\n",
              "      const chunk = new Uint8Array(fileData, position, length);\n",
              "      position += length;\n",
              "\n",
              "      const base64 = btoa(String.fromCharCode.apply(null, chunk));\n",
              "      yield {\n",
              "        response: {\n",
              "          action: 'append',\n",
              "          file: file.name,\n",
              "          data: base64,\n",
              "        },\n",
              "      };\n",
              "\n",
              "      let percentDone = fileData.byteLength === 0 ?\n",
              "          100 :\n",
              "          Math.round((position / fileData.byteLength) * 100);\n",
              "      percent.textContent = `${percentDone}% done`;\n",
              "\n",
              "    } while (position < fileData.byteLength);\n",
              "  }\n",
              "\n",
              "  // All done.\n",
              "  yield {\n",
              "    response: {\n",
              "      action: 'complete',\n",
              "    }\n",
              "  };\n",
              "}\n",
              "\n",
              "scope.google = scope.google || {};\n",
              "scope.google.colab = scope.google.colab || {};\n",
              "scope.google.colab._files = {\n",
              "  _uploadFiles,\n",
              "  _uploadFilesContinue,\n",
              "};\n",
              "})(self);\n",
              "</script> "
            ]
          },
          "metadata": {}
        },
        {
          "output_type": "stream",
          "name": "stdout",
          "text": [
            "Saving knn_L1.py to knn_L1.py\n",
            "Saving knn_L2.py to knn_L2.py\n"
          ]
        },
        {
          "output_type": "execute_result",
          "data": {
            "text/plain": [
              "{'knn_L1.py': b'# -*- coding: utf-8 -*-\\n\"\"\"knn_L1.ipynb\\n\\nAutomatically generated by Colaboratory.\\n\\nOriginal file is located at\\n    https://colab.research.google.com/drive/1Iz6o-k6B2wQtj3rGTT2g9tjEczzbAgL-\\n\\n#L1 (Manhattan) distance\\n\"\"\"\\n\\nimport numpy as np\\n\\nclass NearestNeighbor:\\n\\n  def __init__(self):\\n    pass\\n\\n  def train(self,X,y):\\n    self.Xtr = X\\n    self.ytr = y\\n\\n  def predict(self,X):\\n    num_test = X.shape[0]\\n    Ypred = np.zeros(num_test, dtype = self.ytr.dtype)\\n\\n    k = int(input(\"Input k value(odd) : \")) # \\xec\\x9e\\x84\\xec\\x9d\\x98\\xec\\x9d\\x98 k\\xeb\\xa5\\xbc \\xec\\x9e\\x85\\xeb\\xa0\\xa5\\xeb\\xb0\\x9b\\xec\\x9d\\x84 \\xec\\x88\\x98 \\xec\\x9e\\x88\\xeb\\x8f\\x84\\xeb\\xa1\\x9d \\xec\\xbd\\x94\\xeb\\x93\\x9c \\xec\\xb6\\x94\\xea\\xb0\\x80\\n\\n    for i in range(num_test):\\n      distances = np.sum(np.abs(self.Xtr - X[i,:]), axis = 1)\\n      sorted_idx = np.argsort(distances)  # \\xec\\x98\\xa4\\xeb\\xa6\\x84\\xec\\xb0\\xa8\\xec\\x88\\x9c \\xec\\xa0\\x95\\xeb\\xa0\\xac\\n      k_sorted_idx = sorted_idx[:k]    # \\xec\\x9e\\x91\\xec\\x9d\\x80 \\xec\\x88\\x9c\\xec\\x9c\\xbc\\xeb\\xa1\\x9c k\\xea\\xb0\\x9c \\xec\\x84\\xa0\\xed\\x83\\x9d\\n      closest_y = self.ytr[k_sorted_idx]\\n      cnt_closest_y = np.bincount(closest_y)  # \\xeb\\xb9\\x88\\xeb\\x8f\\x84 \\xec\\x88\\x98\\xeb\\xa5\\xbc count\\xed\\x95\\xa8.\\n      Ypred[i] = np.argmax(cnt_closest_y) # \\xeb\\xb9\\x88\\xeb\\x8f\\x84\\xec\\x88\\x98\\xea\\xb0\\x80 \\xea\\xb0\\x80\\xec\\x9e\\xa5 \\xeb\\xa7\\x8e\\xec\\x9d\\x80 value\\xeb\\xa5\\xbc Ypred\\xec\\x97\\x90 \\xeb\\x8b\\xb4\\xec\\x9d\\x8c.\\n\\n    return Ypred',\n",
              " 'knn_L2.py': b'# -*- coding: utf-8 -*-\\n\"\"\"knn_L2.ipynb\\n\\nAutomatically generated by Colaboratory.\\n\\nOriginal file is located at\\n    https://colab.research.google.com/drive/1WBSZ81-DaKYoSRnAhTRgINWWWMRDXl-Q\\n\\n#L2 (Euclidean) distance\\n\"\"\"\\n\\nimport numpy as np\\n\\nclass NearestNeighbor:\\n\\n  def __init__(self):\\n    pass\\n\\n  def train(self,X,y):\\n    self.Xtr = X\\n    self.ytr = y\\n\\n  def predict(self,X):\\n    num_test = X.shape[0]\\n    Ypred = np.zeros(num_test, dtype = self.ytr.dtype)\\n\\n    k = int(input(\"Input k value(odd) : \")) # \\xec\\x9e\\x84\\xec\\x9d\\x98\\xec\\x9d\\x98 k\\xeb\\xa5\\xbc \\xec\\x9e\\x85\\xeb\\xa0\\xa5\\xeb\\xb0\\x9b\\xec\\x9d\\x84 \\xec\\x88\\x98 \\xec\\x9e\\x88\\xeb\\x8f\\x84\\xeb\\xa1\\x9d \\xec\\xbd\\x94\\xeb\\x93\\x9c \\xec\\xb6\\x94\\xea\\xb0\\x80\\n\\n    for i in range(num_test):\\n      distances = np.sum(np.power((self.Xtr - X[i,:]),2), axis = 1)\\n      distances = np.sqrt(distances)\\n      sorted_idx = np.argsort(distances)  # \\xec\\x98\\xa4\\xeb\\xa6\\x84\\xec\\xb0\\xa8\\xec\\x88\\x9c \\xec\\xa0\\x95\\xeb\\xa0\\xac\\n      k_sorted_idx = sorted_idx[:k]    # \\xec\\x9e\\x91\\xec\\x9d\\x80 \\xec\\x88\\x9c\\xec\\x9c\\xbc\\xeb\\xa1\\x9c k\\xea\\xb0\\x9c \\xec\\x84\\xa0\\xed\\x83\\x9d\\n      closest_y = self.ytr[k_sorted_idx]\\n      cnt_closest_y = np.bincount(closest_y)  # \\xeb\\xb9\\x88\\xeb\\x8f\\x84 \\xec\\x88\\x98\\xeb\\xa5\\xbc count\\xed\\x95\\xa8.\\n      Ypred[i] = np.argmax(cnt_closest_y) # \\xeb\\xb9\\x88\\xeb\\x8f\\x84\\xec\\x88\\x98\\xea\\xb0\\x80 \\xea\\xb0\\x80\\xec\\x9e\\xa5 \\xeb\\xa7\\x8e\\xec\\x9d\\x80 value\\xeb\\xa5\\xbc Ypred\\xec\\x97\\x90 \\xeb\\x8b\\xb4\\xec\\x9d\\x8c.\\n\\n    return Ypred'}"
            ]
          },
          "metadata": {},
          "execution_count": 9
        }
      ]
    },
    {
      "cell_type": "code",
      "source": [
        "from knn_L1 import NearestNeighbor\n",
        "\n",
        "NN_classifier = NearestNeighbor()\n",
        "NN_classifier.train(train_data,train_label)\n",
        "test_in = test_data[0:test_size]\n",
        "print(\"Test Label :\",test_label[0:test_size],\"\\n\")\n",
        "\n",
        "pred_arr = {}\n",
        "num_correct = [0]*8\n",
        "accuracy_L1 = [0]*8\n",
        "\n",
        "for i in range(8):\n",
        "  pred = NN_classifier.predict(test_in)\n",
        "  pred_arr[i] = pred\n",
        "  print(\"Predict :\",pred_arr[i])\n",
        "  num_correct[i] = np.sum(pred_arr[i] == test_label[0:test_size])\n",
        "  accuracy_L1[i] = (float(num_correct[i]) / test_size) * 100\n",
        "  print(\"The accuracy is (%) :\",accuracy_L1[i],\"\\n\")"
      ],
      "metadata": {
        "id": "xXku6c1CYwQe",
        "colab": {
          "base_uri": "https://localhost:8080/"
        },
        "outputId": "e4b61d5c-c7a1-4cec-a5f8-2c0acab98878"
      },
      "execution_count": null,
      "outputs": [
        {
          "output_type": "stream",
          "name": "stdout",
          "text": [
            "Test Label : [3, 8, 8, 0, 6, 6, 1, 6, 3, 1] \n",
            "\n",
            "Input k value(odd) : 1\n",
            "Predict : [8 8 1 0 4 2 2 5 0 8]\n",
            "The accuracy is (%) : 20.0 \n",
            "\n",
            "Input k value(odd) : 3\n",
            "Predict : [0 8 1 0 0 0 4 0 0 8]\n",
            "The accuracy is (%) : 20.0 \n",
            "\n",
            "Input k value(odd) : 5\n",
            "Predict : [0 1 8 0 0 2 4 0 0 8]\n",
            "The accuracy is (%) : 20.0 \n",
            "\n",
            "Input k value(odd) : 7\n",
            "Predict : [0 1 8 0 0 2 4 0 0 8]\n",
            "The accuracy is (%) : 20.0 \n",
            "\n",
            "Input k value(odd) : 9\n",
            "Predict : [0 1 8 0 0 2 4 2 0 1]\n",
            "The accuracy is (%) : 30.0 \n",
            "\n",
            "Input k value(odd) : 11\n",
            "Predict : [0 1 8 0 0 2 4 2 0 1]\n",
            "The accuracy is (%) : 30.0 \n",
            "\n",
            "Input k value(odd) : 13\n",
            "Predict : [0 1 8 0 0 2 4 2 0 1]\n",
            "The accuracy is (%) : 30.0 \n",
            "\n",
            "Input k value(odd) : 15\n",
            "Predict : [0 1 8 0 0 2 4 2 0 1]\n",
            "The accuracy is (%) : 30.0 \n",
            "\n"
          ]
        }
      ]
    },
    {
      "cell_type": "code",
      "source": [
        "from knn_L2 import NearestNeighbor\n",
        "\n",
        "NN_classifier = NearestNeighbor()\n",
        "NN_classifier.train(train_data,train_label)\n",
        "test_in = test_data[0:test_size]\n",
        "print(\"Test Label :\",test_label[0:test_size],\"\\n\")\n",
        "\n",
        "pred_arr = {}\n",
        "num_correct = [0]*8\n",
        "accuracy_L2 = [0]*8\n",
        "\n",
        "for i in range(8):\n",
        "  pred = NN_classifier.predict(test_in)\n",
        "  pred_arr[i] = pred\n",
        "  print(\"Predict :\",pred_arr[i])\n",
        "  num_correct[i] = np.sum(pred_arr[i] == test_label[0:test_size])\n",
        "  accuracy_L2[i] = (float(num_correct[i]) / test_size) * 100\n",
        "  print(\"The accuracy is (%) :\",accuracy_L2[i],\"\\n\")"
      ],
      "metadata": {
        "colab": {
          "base_uri": "https://localhost:8080/"
        },
        "id": "F7_R55x49_Gs",
        "outputId": "9754d213-188d-43a5-978c-c5811f3f5997"
      },
      "execution_count": null,
      "outputs": [
        {
          "output_type": "stream",
          "name": "stdout",
          "text": [
            "Test Label : [3, 8, 8, 0, 6, 6, 1, 6, 3, 1] \n",
            "\n",
            "Input k value(odd) : 1\n",
            "Predict : [8 0 8 0 2 6 5 2 2 6]\n",
            "The accuracy is (%) : 30.0 \n",
            "\n",
            "Input k value(odd) : 3\n",
            "Predict : [8 0 8 2 2 6 2 0 7 2]\n",
            "The accuracy is (%) : 20.0 \n",
            "\n",
            "Input k value(odd) : 5\n",
            "Predict : [0 0 8 0 6 6 2 2 2 2]\n",
            "The accuracy is (%) : 40.0 \n",
            "\n",
            "Input k value(odd) : 7\n",
            "Predict : [8 0 8 0 2 6 2 0 2 8]\n",
            "The accuracy is (%) : 30.0 \n",
            "\n",
            "Input k value(odd) : 9\n",
            "Predict : [8 0 8 0 4 6 3 2 2 2]\n",
            "The accuracy is (%) : 30.0 \n",
            "\n",
            "Input k value(odd) : 11\n",
            "Predict : [8 8 8 0 4 6 2 0 3 2]\n",
            "The accuracy is (%) : 50.0 \n",
            "\n",
            "Input k value(odd) : 13\n",
            "Predict : [8 0 8 0 4 6 3 0 5 2]\n",
            "The accuracy is (%) : 30.0 \n",
            "\n",
            "Input k value(odd) : 15\n",
            "Predict : [8 0 8 0 2 0 3 0 5 2]\n",
            "The accuracy is (%) : 20.0 \n",
            "\n"
          ]
        }
      ]
    },
    {
      "cell_type": "code",
      "source": [
        "import matplotlib.pyplot as plt\n",
        "\n",
        "fig, axs = plt.subplots(1,2,figsize=(10,5))\n",
        "\n",
        "axs[0].bar(range(1,16,2), accuracy_L1, color='r')\n",
        "axs[0].set_xlabel('k')\n",
        "axs[0].set_ylabel('Accuracy(%)')\n",
        "axs[0].set_title('Accuracy of L1(Manhattan)')\n",
        "axs[0].set_xticks(range(1,16,2))\n",
        "\n",
        "axs[1].bar(range(1,16,2), accuracy_L2, color='b')\n",
        "axs[1].set_xlabel('k')\n",
        "axs[1].set_ylabel('Accuracy(%)')\n",
        "axs[1].set_title('Accuracy of L2(Euclidean)')\n",
        "axs[1].set_xticks(range(1,16,2))\n",
        "plt.show()"
      ],
      "metadata": {
        "colab": {
          "base_uri": "https://localhost:8080/",
          "height": 487
        },
        "id": "KiDql7Ww475p",
        "outputId": "c2c07d83-3d77-4274-abe1-0d2afb04a703"
      },
      "execution_count": null,
      "outputs": [
        {
          "output_type": "display_data",
          "data": {
            "text/plain": [
              "<Figure size 1000x500 with 2 Axes>"
            ],
            "image/png": "[encoded data removed]"
          },
          "metadata": {}
        }
      ]
    },
    {
      "cell_type": "markdown",
      "source": [
        "L1(Manhattan)과 L2(Euclidean)의 정확도를 나타내는 막대 그래프"
      ],
      "metadata": {
        "id": "gHzYrzxMMP0-"
      }
    },
    {
      "cell_type": "code",
      "source": [
        "plt.figure(figsize=(6,5))\n",
        "\n",
        "plt.plot(range(1,16,2), accuracy_L1, color='r', marker='o', label='L1(Manhattan)')\n",
        "plt.plot(range(1,16,2), accuracy_L2, color='b', marker='x', label='L2(Euclidean)')\n",
        "\n",
        "plt.xlabel('k')\n",
        "plt.ylabel('Accuracy(%)')\n",
        "plt.title('Accuracy of KNN')\n",
        "plt.xticks(range(1,16,2))\n",
        "plt.legend()\n",
        "plt.show()"
      ],
      "metadata": {
        "colab": {
          "base_uri": "https://localhost:8080/",
          "height": 487
        },
        "id": "-e-UisBFK-8Y",
        "outputId": "cf23a825-12ef-4ac9-a405-6afb42c61d58"
      },
      "execution_count": null,
      "outputs": [
        {
          "output_type": "display_data",
          "data": {
            "text/plain": [
              "<Figure size 600x500 with 1 Axes>"
            ],
            "image/png": "[encoded data removed]"
          },
          "metadata": {}
        }
      ]
    },
    {
      "cell_type": "markdown",
      "source": [
        "L1(Manhattan)과 L2(Euclidean)를 비교하기 용이하도록 중첩 차트를 추가함."
      ],
      "metadata": {
        "id": "vfne407NMaJu"
      }
    },
    {
      "cell_type": "markdown",
      "source": [
        "\n",
        "\n",
        "---\n",
        "\n",
        "\n",
        "### data를 불러오는 과정에서 정보의 소실을 줄이기 위하여 .astype(\"float\") 코드를 추가할 수 있다.\n",
        "\n",
        "### 이 때 KNN의 Accuracy가 어떻게 변화하는지 측정하였다."
      ],
      "metadata": {
        "id": "IXGbz67kuQ7h"
      }
    },
    {
      "cell_type": "code",
      "source": [
        "train_data = data.astype(\"float\")\n",
        "train_label = labels\n",
        "test_data = bat_test[b'data'].astype(\"float\")\n",
        "test_label = bat_test[b'labels']\n",
        "test_size = 10\n",
        "type(data[0,0])"
      ],
      "metadata": {
        "colab": {
          "base_uri": "https://localhost:8080/"
        },
        "id": "hxcpogRfeLfb",
        "outputId": "587968d9-754a-43fc-856e-8ec9f6554b09"
      },
      "execution_count": null,
      "outputs": [
        {
          "output_type": "execute_result",
          "data": {
            "text/plain": [
              "numpy.uint8"
            ]
          },
          "metadata": {},
          "execution_count": 14
        }
      ]
    },
    {
      "cell_type": "code",
      "source": [
        "from knn_L1 import NearestNeighbor\n",
        "\n",
        "NN_classifier = NearestNeighbor()\n",
        "NN_classifier.train(train_data,train_label)\n",
        "test_in = test_data[0:test_size]\n",
        "print(\"Test Label :\",test_label[0:test_size],\"\\n\")\n",
        "\n",
        "pred_arr = {}\n",
        "num_correct = [0]*8\n",
        "accuracy_L1 = [0]*8\n",
        "\n",
        "for i in range(8):\n",
        "  pred = NN_classifier.predict(test_in)\n",
        "  pred_arr[i] = pred\n",
        "  print(\"Predict :\",pred_arr[i])\n",
        "  num_correct[i] = np.sum(pred_arr[i] == test_label[0:test_size])\n",
        "  accuracy_L1[i] = (float(num_correct[i]) / test_size) * 100\n",
        "  print(\"The accuracy is (%) :\",accuracy_L1[i],\"\\n\")"
      ],
      "metadata": {
        "colab": {
          "base_uri": "https://localhost:8080/"
        },
        "id": "00cYeT0CfNBt",
        "outputId": "1051d11f-50de-4f43-9a78-5ec16b71c80a"
      },
      "execution_count": null,
      "outputs": [
        {
          "output_type": "stream",
          "name": "stdout",
          "text": [
            "Test Label : [3, 8, 8, 0, 6, 6, 1, 6, 3, 1] \n",
            "\n",
            "Input k value(odd) : 1\n",
            "Predict : [4 8 1 0 4 6 4 2 4 8]\n",
            "The accuracy is (%) : 30.0 \n",
            "\n",
            "Input k value(odd) : 3\n",
            "Predict : [4 8 8 0 4 6 3 2 4 8]\n",
            "The accuracy is (%) : 40.0 \n",
            "\n",
            "Input k value(odd) : 5\n",
            "Predict : [2 8 8 0 4 6 1 2 4 8]\n",
            "The accuracy is (%) : 50.0 \n",
            "\n",
            "Input k value(odd) : 7\n",
            "Predict : [2 8 8 0 4 6 6 4 2 8]\n",
            "The accuracy is (%) : 40.0 \n",
            "\n",
            "Input k value(odd) : 9\n",
            "Predict : [2 8 8 0 4 6 6 2 2 8]\n",
            "The accuracy is (%) : 40.0 \n",
            "\n",
            "Input k value(odd) : 11\n",
            "Predict : [2 8 8 0 4 6 6 2 2 8]\n",
            "The accuracy is (%) : 40.0 \n",
            "\n",
            "Input k value(odd) : 13\n",
            "Predict : [2 8 8 0 4 6 6 2 2 8]\n",
            "The accuracy is (%) : 40.0 \n",
            "\n",
            "Input k value(odd) : 15\n",
            "Predict : [2 8 8 0 4 6 6 4 2 8]\n",
            "The accuracy is (%) : 40.0 \n",
            "\n"
          ]
        }
      ]
    },
    {
      "cell_type": "code",
      "source": [
        "from knn_L2 import NearestNeighbor\n",
        "\n",
        "NN_classifier = NearestNeighbor()\n",
        "NN_classifier.train(train_data,train_label)\n",
        "test_in = test_data[0:test_size]\n",
        "print(\"Test Label :\",test_label[0:test_size],\"\\n\")\n",
        "\n",
        "pred_arr = {}\n",
        "num_correct = [0]*8\n",
        "accuracy_L2 = [0]*8\n",
        "\n",
        "for i in range(8):\n",
        "  pred = NN_classifier.predict(test_in)\n",
        "  pred_arr[i] = pred\n",
        "  print(\"Predict :\",pred_arr[i])\n",
        "  num_correct[i] = np.sum(pred_arr[i] == test_label[0:test_size])\n",
        "  accuracy_L2[i] = (float(num_correct[i]) / test_size) * 100\n",
        "  print(\"The accuracy is (%) :\",accuracy_L2[i],\"\\n\")"
      ],
      "metadata": {
        "colab": {
          "base_uri": "https://localhost:8080/"
        },
        "id": "p4sMb6-6fNyG",
        "outputId": "3dc0c682-fe61-4ae4-9954-a54760032e9e"
      },
      "execution_count": null,
      "outputs": [
        {
          "output_type": "stream",
          "name": "stdout",
          "text": [
            "Test Label : [3, 8, 8, 0, 6, 6, 1, 6, 3, 1] \n",
            "\n",
            "Input k value(odd) : 1\n",
            "Predict : [4 8 8 0 4 6 4 2 4 8]\n",
            "The accuracy is (%) : 40.0 \n",
            "\n",
            "Input k value(odd) : 3\n",
            "Predict : [2 8 8 0 4 6 2 2 4 8]\n",
            "The accuracy is (%) : 40.0 \n",
            "\n",
            "Input k value(odd) : 5\n",
            "Predict : [2 8 8 0 4 6 6 2 4 8]\n",
            "The accuracy is (%) : 40.0 \n",
            "\n",
            "Input k value(odd) : 7\n",
            "Predict : [2 8 8 8 4 6 6 4 4 8]\n",
            "The accuracy is (%) : 30.0 \n",
            "\n",
            "Input k value(odd) : 9\n",
            "Predict : [4 8 8 0 4 6 6 2 2 8]\n",
            "The accuracy is (%) : 40.0 \n",
            "\n",
            "Input k value(odd) : 11\n",
            "Predict : [4 8 8 0 4 6 6 2 2 8]\n",
            "The accuracy is (%) : 40.0 \n",
            "\n",
            "Input k value(odd) : 13\n",
            "Predict : [2 8 8 8 4 6 6 2 2 8]\n",
            "The accuracy is (%) : 30.0 \n",
            "\n",
            "Input k value(odd) : 15\n",
            "Predict : [4 8 8 8 4 6 6 2 2 8]\n",
            "The accuracy is (%) : 30.0 \n",
            "\n"
          ]
        }
      ]
    },
    {
      "cell_type": "code",
      "source": [
        "import matplotlib.pyplot as plt\n",
        "\n",
        "fig, axs = plt.subplots(1,2,figsize=(10,5))\n",
        "\n",
        "axs[0].bar(range(1,16,2), accuracy_L1, color='r')\n",
        "axs[0].set_xlabel('k')\n",
        "axs[0].set_ylabel('Accuracy(%)')\n",
        "axs[0].set_title('Accuracy of L1(Manhattan) - Data type : float')\n",
        "axs[0].set_xticks(range(1,16,2))\n",
        "\n",
        "axs[1].bar(range(1,16,2), accuracy_L2, color='b')\n",
        "axs[1].set_xlabel('k')\n",
        "axs[1].set_ylabel('Accuracy(%)')\n",
        "axs[1].set_title('Accuracy of L2(Euclidean) - Data type : float')\n",
        "axs[1].set_xticks(range(1,16,2))\n",
        "plt.show()"
      ],
      "metadata": {
        "colab": {
          "base_uri": "https://localhost:8080/",
          "height": 487
        },
        "id": "8mIovspufQ56",
        "outputId": "5e7fb17e-27f0-477a-eb98-aa974ff13633"
      },
      "execution_count": null,
      "outputs": [
        {
          "output_type": "display_data",
          "data": {
            "text/plain": [
              "<Figure size 1000x500 with 2 Axes>"
            ],
            "image/png": "[encoded data removed]"
          },
          "metadata": {}
        }
      ]
    },
    {
      "cell_type": "code",
      "source": [
        "plt.figure(figsize=(6,5))\n",
        "\n",
        "plt.plot(range(1,16,2), accuracy_L1, color='r', marker='o', label='L1(Manhattan)')\n",
        "plt.plot(range(1,16,2), accuracy_L2, color='b', marker='x', label='L2(Euclidean)')\n",
        "\n",
        "plt.xlabel('k')\n",
        "plt.ylabel('Accuracy(%)')\n",
        "plt.title('Accuracy of KNN - Data type : float')\n",
        "plt.xticks(range(1,16,2))\n",
        "plt.legend()\n",
        "plt.show()"
      ],
      "metadata": {
        "colab": {
          "base_uri": "https://localhost:8080/",
          "height": 487
        },
        "id": "EDq8xAIhfcYB",
        "outputId": "ec3b7a74-b34e-4657-cb0b-37bcc64ca973"
      },
      "execution_count": null,
      "outputs": [
        {
          "output_type": "display_data",
          "data": {
            "text/plain": [
              "<Figure size 600x500 with 1 Axes>"
            ],
            "image/png": "[encoded data removed]"
          },
          "metadata": {}
        }
      ]
    },
    {
      "cell_type": "markdown",
      "source": [
        "#결론\n",
        "* Data를 float형으로 불러오지 않았을 때, L2(Euclidean)방식에서 k=11를 적용하면 KNN의 정확도가 50%로 가장 높게 나타났다.\n",
        "\n",
        "* Data를 float형으로 불러왔을 때, L1(Manhattan)방식에서 k=5를 적용하면 KNN의 정확도가 50%로 가장 높게 나타났다."
      ],
      "metadata": {
        "id": "8vRH3PS1O6Ry"
      }
    }
  ]
}
