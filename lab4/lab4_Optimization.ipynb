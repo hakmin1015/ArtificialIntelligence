{
  "nbformat": 4,
  "nbformat_minor": 0,
  "metadata": {
    "colab": {
      "provenance": [],
      "mount_file_id": "1iWHuulsr4AoSfc4Nm30_S9plrZ-XC-06",
      "authorship_tag": "ABX9TyOOguvXj9FW5cFz6GAUirs6",
      "include_colab_link": true
    },
    "kernelspec": {
      "name": "python3",
      "display_name": "Python 3"
    },
    "language_info": {
      "name": "python"
    }
  },
  "cells": [
    {
      "cell_type": "markdown",
      "metadata": {
        "id": "view-in-github",
        "colab_type": "text"
      },
      "source": [
        "<a href=\"https://colab.research.google.com/github/hakmin1015/ArtificialIntelligence/blob/main/lab4/lab4_Optimization.ipynb\" target=\"_parent\"><img src=\"https://colab.research.google.com/assets/colab-badge.svg\" alt=\"Open In Colab\"/></a>"
      ]
    },
    {
      "cell_type": "code",
      "execution_count": null,
      "metadata": {
        "id": "d1Mn9KRIkdoA"
      },
      "outputs": [],
      "source": [
        "def unpickle(file):\n",
        "  import pickle\n",
        "  with open(file,'rb') as fo:\n",
        "    dict = pickle.load(fo, encoding='bytes')\n",
        "  return dict"
      ]
    },
    {
      "cell_type": "code",
      "source": [
        "from google.colab import drive\n",
        "drive.mount('/content/drive')\n",
        "%cd /content/drive/MyDrive/AI/lab4"
      ],
      "metadata": {
        "id": "gH7W38GclDIG",
        "colab": {
          "base_uri": "https://localhost:8080/"
        },
        "outputId": "42208c9b-16aa-4975-9466-24a36f8b35b2"
      },
      "execution_count": null,
      "outputs": [
        {
          "output_type": "stream",
          "name": "stdout",
          "text": [
            "Drive already mounted at /content/drive; to attempt to forcibly remount, call drive.mount(\"/content/drive\", force_remount=True).\n",
            "/content/drive/MyDrive/AI/lab4\n"
          ]
        }
      ]
    },
    {
      "cell_type": "code",
      "source": [
        "from google.colab import files\n",
        "files.upload()"
      ],
      "metadata": {
        "id": "PONqnUpMlLZj",
        "colab": {
          "base_uri": "https://localhost:8080/",
          "height": 185
        },
        "outputId": "39b3b2d0-93f8-4eb1-efaf-4a0946bbd988"
      },
      "execution_count": null,
      "outputs": [
        {
          "output_type": "display_data",
          "data": {
            "text/plain": [
              "<IPython.core.display.HTML object>"
            ],
            "text/html": [
              "\n",
              "     <input type=\"file\" id=\"files-5c031987-4066-4e8b-8411-023c07fc72ad\" name=\"files[]\" multiple disabled\n",
              "        style=\"border:none\" />\n",
              "     <output id=\"result-5c031987-4066-4e8b-8411-023c07fc72ad\">\n",
              "      Upload widget is only available when the cell has been executed in the\n",
              "      current browser session. Please rerun this cell to enable.\n",
              "      </output>\n",
              "      <script>// Copyright 2017 Google LLC\n",
              "//\n",
              "// Licensed under the Apache License, Version 2.0 (the \"License\");\n",
              "// you may not use this file except in compliance with the License.\n",
              "// You may obtain a copy of the License at\n",
              "//\n",
              "//      http://www.apache.org/licenses/LICENSE-2.0\n",
              "//\n",
              "// Unless required by applicable law or agreed to in writing, software\n",
              "// distributed under the License is distributed on an \"AS IS\" BASIS,\n",
              "// WITHOUT WARRANTIES OR CONDITIONS OF ANY KIND, either express or implied.\n",
              "// See the License for the specific language governing permissions and\n",
              "// limitations under the License.\n",
              "\n",
              "/**\n",
              " * @fileoverview Helpers for google.colab Python module.\n",
              " */\n",
              "(function(scope) {\n",
              "function span(text, styleAttributes = {}) {\n",
              "  const element = document.createElement('span');\n",
              "  element.textContent = text;\n",
              "  for (const key of Object.keys(styleAttributes)) {\n",
              "    element.style[key] = styleAttributes[key];\n",
              "  }\n",
              "  return element;\n",
              "}\n",
              "\n",
              "// Max number of bytes which will be uploaded at a time.\n",
              "const MAX_PAYLOAD_SIZE = 100 * 1024;\n",
              "\n",
              "function _uploadFiles(inputId, outputId) {\n",
              "  const steps = uploadFilesStep(inputId, outputId);\n",
              "  const outputElement = document.getElementById(outputId);\n",
              "  // Cache steps on the outputElement to make it available for the next call\n",
              "  // to uploadFilesContinue from Python.\n",
              "  outputElement.steps = steps;\n",
              "\n",
              "  return _uploadFilesContinue(outputId);\n",
              "}\n",
              "\n",
              "// This is roughly an async generator (not supported in the browser yet),\n",
              "// where there are multiple asynchronous steps and the Python side is going\n",
              "// to poll for completion of each step.\n",
              "// This uses a Promise to block the python side on completion of each step,\n",
              "// then passes the result of the previous step as the input to the next step.\n",
              "function _uploadFilesContinue(outputId) {\n",
              "  const outputElement = document.getElementById(outputId);\n",
              "  const steps = outputElement.steps;\n",
              "\n",
              "  const next = steps.next(outputElement.lastPromiseValue);\n",
              "  return Promise.resolve(next.value.promise).then((value) => {\n",
              "    // Cache the last promise value to make it available to the next\n",
              "    // step of the generator.\n",
              "    outputElement.lastPromiseValue = value;\n",
              "    return next.value.response;\n",
              "  });\n",
              "}\n",
              "\n",
              "/**\n",
              " * Generator function which is called between each async step of the upload\n",
              " * process.\n",
              " * @param {string} inputId Element ID of the input file picker element.\n",
              " * @param {string} outputId Element ID of the output display.\n",
              " * @return {!Iterable<!Object>} Iterable of next steps.\n",
              " */\n",
              "function* uploadFilesStep(inputId, outputId) {\n",
              "  const inputElement = document.getElementById(inputId);\n",
              "  inputElement.disabled = false;\n",
              "\n",
              "  const outputElement = document.getElementById(outputId);\n",
              "  outputElement.innerHTML = '';\n",
              "\n",
              "  const pickedPromise = new Promise((resolve) => {\n",
              "    inputElement.addEventListener('change', (e) => {\n",
              "      resolve(e.target.files);\n",
              "    });\n",
              "  });\n",
              "\n",
              "  const cancel = document.createElement('button');\n",
              "  inputElement.parentElement.appendChild(cancel);\n",
              "  cancel.textContent = 'Cancel upload';\n",
              "  const cancelPromise = new Promise((resolve) => {\n",
              "    cancel.onclick = () => {\n",
              "      resolve(null);\n",
              "    };\n",
              "  });\n",
              "\n",
              "  // Wait for the user to pick the files.\n",
              "  const files = yield {\n",
              "    promise: Promise.race([pickedPromise, cancelPromise]),\n",
              "    response: {\n",
              "      action: 'starting',\n",
              "    }\n",
              "  };\n",
              "\n",
              "  cancel.remove();\n",
              "\n",
              "  // Disable the input element since further picks are not allowed.\n",
              "  inputElement.disabled = true;\n",
              "\n",
              "  if (!files) {\n",
              "    return {\n",
              "      response: {\n",
              "        action: 'complete',\n",
              "      }\n",
              "    };\n",
              "  }\n",
              "\n",
              "  for (const file of files) {\n",
              "    const li = document.createElement('li');\n",
              "    li.append(span(file.name, {fontWeight: 'bold'}));\n",
              "    li.append(span(\n",
              "        `(${file.type || 'n/a'}) - ${file.size} bytes, ` +\n",
              "        `last modified: ${\n",
              "            file.lastModifiedDate ? file.lastModifiedDate.toLocaleDateString() :\n",
              "                                    'n/a'} - `));\n",
              "    const percent = span('0% done');\n",
              "    li.appendChild(percent);\n",
              "\n",
              "    outputElement.appendChild(li);\n",
              "\n",
              "    const fileDataPromise = new Promise((resolve) => {\n",
              "      const reader = new FileReader();\n",
              "      reader.onload = (e) => {\n",
              "        resolve(e.target.result);\n",
              "      };\n",
              "      reader.readAsArrayBuffer(file);\n",
              "    });\n",
              "    // Wait for the data to be ready.\n",
              "    let fileData = yield {\n",
              "      promise: fileDataPromise,\n",
              "      response: {\n",
              "        action: 'continue',\n",
              "      }\n",
              "    };\n",
              "\n",
              "    // Use a chunked sending to avoid message size limits. See b/62115660.\n",
              "    let position = 0;\n",
              "    do {\n",
              "      const length = Math.min(fileData.byteLength - position, MAX_PAYLOAD_SIZE);\n",
              "      const chunk = new Uint8Array(fileData, position, length);\n",
              "      position += length;\n",
              "\n",
              "      const base64 = btoa(String.fromCharCode.apply(null, chunk));\n",
              "      yield {\n",
              "        response: {\n",
              "          action: 'append',\n",
              "          file: file.name,\n",
              "          data: base64,\n",
              "        },\n",
              "      };\n",
              "\n",
              "      let percentDone = fileData.byteLength === 0 ?\n",
              "          100 :\n",
              "          Math.round((position / fileData.byteLength) * 100);\n",
              "      percent.textContent = `${percentDone}% done`;\n",
              "\n",
              "    } while (position < fileData.byteLength);\n",
              "  }\n",
              "\n",
              "  // All done.\n",
              "  yield {\n",
              "    response: {\n",
              "      action: 'complete',\n",
              "    }\n",
              "  };\n",
              "}\n",
              "\n",
              "scope.google = scope.google || {};\n",
              "scope.google.colab = scope.google.colab || {};\n",
              "scope.google.colab._files = {\n",
              "  _uploadFiles,\n",
              "  _uploadFilesContinue,\n",
              "};\n",
              "})(self);\n",
              "</script> "
            ]
          },
          "metadata": {}
        },
        {
          "output_type": "stream",
          "name": "stdout",
          "text": [
            "Saving lossfunction.py to lossfunction.py\n"
          ]
        },
        {
          "output_type": "execute_result",
          "data": {
            "text/plain": [
              "{'lossfunction.py': b'# -*- coding: utf-8 -*-\\n\"\"\"lossfunction.ipynb\\n\\nAutomatically generated by Colab.\\n\\nOriginal file is located at\\n    https://colab.research.google.com/drive/17Q8dJ6w26LXJiabzLy9kRRxsszPLleBb\\n\"\"\"\\n\\nimport numpy as np\\n\\nclass LossFunc:\\n\\n  def __init__(self):\\n    pass\\n\\n  def hinge_loss(self,W,X_tr,y_tr):\\n    s = W.dot(X_tr)\\n    y_s = s[y_tr, np.arange(X_tr.shape[1])]\\n    margin = np.maximum(0, s-y_s+1)\\n    margin[y_tr, np.arange(X_tr.shape[1])] = 0\\n    loss_i = np.sum(margin, axis = 0)\\n\\n    return np.mean(loss_i)\\n\\n  def softmax_loss(self,W,X_tr,y_tr):\\n    s = W.dot(X_tr)\\n    exp_s = np.exp(s)\\n\\n    norm_y_s = exp_s / np.sum(exp_s, axis=0)\\n    loss_i = -np.log(norm_y_s[y_tr, np.arange(X_tr.shape[1])])\\n\\n    return np.mean(loss_i)'}"
            ]
          },
          "metadata": {},
          "execution_count": 16
        }
      ]
    },
    {
      "cell_type": "code",
      "source": [
        "bat1 = unpickle('data_batch_1')\n",
        "bat2 = unpickle('data_batch_2')\n",
        "bat3 = unpickle('data_batch_3')\n",
        "bat4 = unpickle('data_batch_4')\n",
        "bat5 = unpickle('data_batch_5')\n",
        "bat_test = unpickle('test_batch')"
      ],
      "metadata": {
        "id": "cpV20KNflVOk"
      },
      "execution_count": null,
      "outputs": []
    },
    {
      "cell_type": "code",
      "source": [
        "import numpy as np\n",
        "\n",
        "data = np.concatenate([bat1[b'data'], bat2[b'data'], bat3[b'data'], bat4[b'data'], bat5[b'data']])\n",
        "labels = np.concatenate([bat1[b'labels'], bat2[b'labels'], bat3[b'labels'], bat4[b'labels'], bat5[b'labels']])"
      ],
      "metadata": {
        "id": "BtP4vpg6mKpK"
      },
      "execution_count": null,
      "outputs": []
    },
    {
      "cell_type": "code",
      "source": [
        "train_data = data.T\n",
        "train_label = labels\n",
        "test_data = bat_test[b'data']\n",
        "test_label = bat_test[b'labels']"
      ],
      "metadata": {
        "id": "IByd49IBojJc"
      },
      "execution_count": null,
      "outputs": []
    },
    {
      "cell_type": "code",
      "source": [
        "from lossfunction import LossFunc\n",
        "\n",
        "bestloss = float(\"inf\")\n",
        "LF = LossFunc()\n",
        "\n",
        "for num in range(1000):\n",
        "  W = np.random.randn(10,3072) * 0.0001\n",
        "  loss = LF.hinge_loss(W, train_data, train_label)\n",
        "  if loss < bestloss:\n",
        "    bestloss = loss\n",
        "    bestW = W\n",
        "    print(\"in attempt %d the loss was %f, best %f\" % (num, loss, bestloss))\n",
        "print(\"Done\")"
      ],
      "metadata": {
        "id": "7iQlF3pKoxKn",
        "colab": {
          "base_uri": "https://localhost:8080/"
        },
        "outputId": "1adb9e0b-453b-4fd0-f1b8-53316463d814"
      },
      "execution_count": null,
      "outputs": [
        {
          "output_type": "stream",
          "name": "stdout",
          "text": [
            "in attempt 0 the loss was 9.639332, best 9.639332\n",
            "in attempt 2 the loss was 8.909458, best 8.909458\n",
            "in attempt 141 the loss was 8.908088, best 8.908088\n",
            "in attempt 272 the loss was 8.898221, best 8.898221\n",
            "in attempt 291 the loss was 8.895518, best 8.895518\n",
            "in attempt 513 the loss was 8.863157, best 8.863157\n",
            "in attempt 631 the loss was 8.815017, best 8.815017\n",
            "Done\n"
          ]
        }
      ]
    },
    {
      "cell_type": "code",
      "source": [
        "scores = bestW.dot(test_data.T)\n",
        "Y_predict = np.argmax(scores, axis = 0)\n",
        "acc = np.mean(Y_predict == test_label) * 100\n",
        "print(\"The accuracy is %f\" % acc)"
      ],
      "metadata": {
        "id": "9RzAtm__pN9-",
        "colab": {
          "base_uri": "https://localhost:8080/"
        },
        "outputId": "8301f226-7f7c-4057-fd52-d8de5eddd790"
      },
      "execution_count": null,
      "outputs": [
        {
          "output_type": "stream",
          "name": "stdout",
          "text": [
            "The accuracy is 13.520000\n"
          ]
        }
      ]
    },
    {
      "cell_type": "code",
      "source": [
        "from lossfunction import LossFunc\n",
        "\n",
        "bestloss = float(\"inf\")\n",
        "LF = LossFunc()\n",
        "\n",
        "for num in range(1000):\n",
        "  W = np.random.randn(10,3072) * 0.0001\n",
        "  loss = LF.softmax_loss(W, train_data, train_label)\n",
        "  if loss < bestloss:\n",
        "    bestloss = loss\n",
        "    bestW = W\n",
        "    print(\"in attempt %d the loss was %f, best %f\" % (num, loss, bestloss))\n",
        "print(\"Done\")"
      ],
      "metadata": {
        "colab": {
          "base_uri": "https://localhost:8080/"
        },
        "id": "f-vUYXPw8KDk",
        "outputId": "a75ab314-e34f-4a1f-8013-0a18051be1ca"
      },
      "execution_count": null,
      "outputs": [
        {
          "output_type": "stream",
          "name": "stdout",
          "text": [
            "in attempt 0 the loss was 2.528698, best 2.528698\n",
            "in attempt 4 the loss was 2.387023, best 2.387023\n",
            "in attempt 113 the loss was 2.386532, best 2.386532\n",
            "in attempt 182 the loss was 2.342614, best 2.342614\n",
            "in attempt 251 the loss was 2.341563, best 2.341563\n",
            "Done\n"
          ]
        }
      ]
    },
    {
      "cell_type": "code",
      "source": [
        "scores = bestW.dot(test_data.T)\n",
        "Y_predict = np.argmax(scores, axis = 0)\n",
        "acc = np.mean(Y_predict == test_label) * 100\n",
        "print(\"The accuracy is %f\" % acc)"
      ],
      "metadata": {
        "id": "mXw0VHKc8PGV",
        "colab": {
          "base_uri": "https://localhost:8080/"
        },
        "outputId": "e1bcc18a-4bb7-4256-a254-bac15120e82e"
      },
      "execution_count": null,
      "outputs": [
        {
          "output_type": "stream",
          "name": "stdout",
          "text": [
            "The accuracy is 13.070000\n"
          ]
        }
      ]
    }
  ]
}