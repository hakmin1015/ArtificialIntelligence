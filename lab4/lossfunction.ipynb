{
  "nbformat": 4,
  "nbformat_minor": 0,
  "metadata": {
    "colab": {
      "provenance": [],
      "include_colab_link": true
    },
    "kernelspec": {
      "name": "python3",
      "display_name": "Python 3"
    },
    "language_info": {
      "name": "python"
    }
  },
  "cells": [
    {
      "cell_type": "markdown",
      "metadata": {
        "id": "view-in-github",
        "colab_type": "text"
      },
      "source": [
        "<a href=\"https://colab.research.google.com/github/hakmin1015/ArtificialIntelligence/blob/main/lab4/lossfunction.ipynb\" target=\"_parent\"><img src=\"https://colab.research.google.com/assets/colab-badge.svg\" alt=\"Open In Colab\"/></a>"
      ]
    },
    {
      "cell_type": "markdown",
      "source": [
        "#Loss Function 패키지\n",
        "Hinge Loss와 Softmax Loss를 계산하는 Loss Function 패키지임."
      ],
      "metadata": {
        "id": "hVcSVstHZJwe"
      }
    },
    {
      "cell_type": "code",
      "execution_count": null,
      "metadata": {
        "id": "tiwu5s0tS1qs"
      },
      "outputs": [],
      "source": [
        "import numpy as np\n",
        "\n",
        "class LossFunc:\n",
        "\n",
        "  def __init__(self):\n",
        "    pass\n",
        "\n",
        "  def hinge_loss(self,W,X_tr,y_tr):\n",
        "    s = W.dot(X_tr)\n",
        "    y_s = s[y_tr, np.arange(X_tr.shape[1])]\n",
        "    margin = np.maximum(0, s-y_s+1)\n",
        "    margin[y_tr, np.arange(X_tr.shape[1])] = 0\n",
        "    loss_i = np.sum(margin, axis = 0)\n",
        "\n",
        "    return np.mean(loss_i)\n",
        "\n",
        "  def softmax_loss(self,W,X_tr,y_tr):\n",
        "    s = W.dot(X_tr)\n",
        "    exp_s = np.exp(s)\n",
        "\n",
        "    norm_y_s = exp_s / np.sum(exp_s, axis=0)\n",
        "    loss_i = -np.log(norm_y_s[y_tr, np.arange(X_tr.shape[1])])\n",
        "\n",
        "    return np.mean(loss_i)"
      ]
    },
    {
      "cell_type": "markdown",
      "source": [
        "return value를 np.sum(loss_i)로 해도 최적의 W를 찾는데에 지장은 없으나 정확한 Loss값의 정의에 맞추어 코드를 설계하고자 np.mean(loss_i)를 return 하였다.\n",
        "<br/>\n",
        "Loss값을 그저 최적의 W를 찾는 수단으로만 사용하고자 한다면 np.sum을 return하는 것이 연산 효율 측면에서 더 효과적일 것으로 판단된다."
      ],
      "metadata": {
        "id": "c9tboCfsByVa"
      }
    }
  ]
}